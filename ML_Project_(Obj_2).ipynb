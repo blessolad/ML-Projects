{
  "nbformat": 4,
  "nbformat_minor": 0,
  "metadata": {
    "colab": {
      "provenance": []
    },
    "kernelspec": {
      "name": "python3",
      "display_name": "Python 3"
    },
    "language_info": {
      "name": "python"
    }
  },
  "cells": [
    {
      "cell_type": "code",
      "execution_count": 1,
      "metadata": {
        "colab": {
          "base_uri": "https://localhost:8080/",
          "height": 73
        },
        "id": "8pJAb7qqYpiF",
        "outputId": "887a64f0-48a8-43df-babf-de43a1d6f8a4"
      },
      "outputs": [
        {
          "output_type": "display_data",
          "data": {
            "text/plain": [
              "<IPython.core.display.HTML object>"
            ],
            "text/html": [
              "\n",
              "     <input type=\"file\" id=\"files-bd1d85b2-6576-452e-9bb8-e5d10121ddeb\" name=\"files[]\" multiple disabled\n",
              "        style=\"border:none\" />\n",
              "     <output id=\"result-bd1d85b2-6576-452e-9bb8-e5d10121ddeb\">\n",
              "      Upload widget is only available when the cell has been executed in the\n",
              "      current browser session. Please rerun this cell to enable.\n",
              "      </output>\n",
              "      <script>// Copyright 2017 Google LLC\n",
              "//\n",
              "// Licensed under the Apache License, Version 2.0 (the \"License\");\n",
              "// you may not use this file except in compliance with the License.\n",
              "// You may obtain a copy of the License at\n",
              "//\n",
              "//      http://www.apache.org/licenses/LICENSE-2.0\n",
              "//\n",
              "// Unless required by applicable law or agreed to in writing, software\n",
              "// distributed under the License is distributed on an \"AS IS\" BASIS,\n",
              "// WITHOUT WARRANTIES OR CONDITIONS OF ANY KIND, either express or implied.\n",
              "// See the License for the specific language governing permissions and\n",
              "// limitations under the License.\n",
              "\n",
              "/**\n",
              " * @fileoverview Helpers for google.colab Python module.\n",
              " */\n",
              "(function(scope) {\n",
              "function span(text, styleAttributes = {}) {\n",
              "  const element = document.createElement('span');\n",
              "  element.textContent = text;\n",
              "  for (const key of Object.keys(styleAttributes)) {\n",
              "    element.style[key] = styleAttributes[key];\n",
              "  }\n",
              "  return element;\n",
              "}\n",
              "\n",
              "// Max number of bytes which will be uploaded at a time.\n",
              "const MAX_PAYLOAD_SIZE = 100 * 1024;\n",
              "\n",
              "function _uploadFiles(inputId, outputId) {\n",
              "  const steps = uploadFilesStep(inputId, outputId);\n",
              "  const outputElement = document.getElementById(outputId);\n",
              "  // Cache steps on the outputElement to make it available for the next call\n",
              "  // to uploadFilesContinue from Python.\n",
              "  outputElement.steps = steps;\n",
              "\n",
              "  return _uploadFilesContinue(outputId);\n",
              "}\n",
              "\n",
              "// This is roughly an async generator (not supported in the browser yet),\n",
              "// where there are multiple asynchronous steps and the Python side is going\n",
              "// to poll for completion of each step.\n",
              "// This uses a Promise to block the python side on completion of each step,\n",
              "// then passes the result of the previous step as the input to the next step.\n",
              "function _uploadFilesContinue(outputId) {\n",
              "  const outputElement = document.getElementById(outputId);\n",
              "  const steps = outputElement.steps;\n",
              "\n",
              "  const next = steps.next(outputElement.lastPromiseValue);\n",
              "  return Promise.resolve(next.value.promise).then((value) => {\n",
              "    // Cache the last promise value to make it available to the next\n",
              "    // step of the generator.\n",
              "    outputElement.lastPromiseValue = value;\n",
              "    return next.value.response;\n",
              "  });\n",
              "}\n",
              "\n",
              "/**\n",
              " * Generator function which is called between each async step of the upload\n",
              " * process.\n",
              " * @param {string} inputId Element ID of the input file picker element.\n",
              " * @param {string} outputId Element ID of the output display.\n",
              " * @return {!Iterable<!Object>} Iterable of next steps.\n",
              " */\n",
              "function* uploadFilesStep(inputId, outputId) {\n",
              "  const inputElement = document.getElementById(inputId);\n",
              "  inputElement.disabled = false;\n",
              "\n",
              "  const outputElement = document.getElementById(outputId);\n",
              "  outputElement.innerHTML = '';\n",
              "\n",
              "  const pickedPromise = new Promise((resolve) => {\n",
              "    inputElement.addEventListener('change', (e) => {\n",
              "      resolve(e.target.files);\n",
              "    });\n",
              "  });\n",
              "\n",
              "  const cancel = document.createElement('button');\n",
              "  inputElement.parentElement.appendChild(cancel);\n",
              "  cancel.textContent = 'Cancel upload';\n",
              "  const cancelPromise = new Promise((resolve) => {\n",
              "    cancel.onclick = () => {\n",
              "      resolve(null);\n",
              "    };\n",
              "  });\n",
              "\n",
              "  // Wait for the user to pick the files.\n",
              "  const files = yield {\n",
              "    promise: Promise.race([pickedPromise, cancelPromise]),\n",
              "    response: {\n",
              "      action: 'starting',\n",
              "    }\n",
              "  };\n",
              "\n",
              "  cancel.remove();\n",
              "\n",
              "  // Disable the input element since further picks are not allowed.\n",
              "  inputElement.disabled = true;\n",
              "\n",
              "  if (!files) {\n",
              "    return {\n",
              "      response: {\n",
              "        action: 'complete',\n",
              "      }\n",
              "    };\n",
              "  }\n",
              "\n",
              "  for (const file of files) {\n",
              "    const li = document.createElement('li');\n",
              "    li.append(span(file.name, {fontWeight: 'bold'}));\n",
              "    li.append(span(\n",
              "        `(${file.type || 'n/a'}) - ${file.size} bytes, ` +\n",
              "        `last modified: ${\n",
              "            file.lastModifiedDate ? file.lastModifiedDate.toLocaleDateString() :\n",
              "                                    'n/a'} - `));\n",
              "    const percent = span('0% done');\n",
              "    li.appendChild(percent);\n",
              "\n",
              "    outputElement.appendChild(li);\n",
              "\n",
              "    const fileDataPromise = new Promise((resolve) => {\n",
              "      const reader = new FileReader();\n",
              "      reader.onload = (e) => {\n",
              "        resolve(e.target.result);\n",
              "      };\n",
              "      reader.readAsArrayBuffer(file);\n",
              "    });\n",
              "    // Wait for the data to be ready.\n",
              "    let fileData = yield {\n",
              "      promise: fileDataPromise,\n",
              "      response: {\n",
              "        action: 'continue',\n",
              "      }\n",
              "    };\n",
              "\n",
              "    // Use a chunked sending to avoid message size limits. See b/62115660.\n",
              "    let position = 0;\n",
              "    do {\n",
              "      const length = Math.min(fileData.byteLength - position, MAX_PAYLOAD_SIZE);\n",
              "      const chunk = new Uint8Array(fileData, position, length);\n",
              "      position += length;\n",
              "\n",
              "      const base64 = btoa(String.fromCharCode.apply(null, chunk));\n",
              "      yield {\n",
              "        response: {\n",
              "          action: 'append',\n",
              "          file: file.name,\n",
              "          data: base64,\n",
              "        },\n",
              "      };\n",
              "\n",
              "      let percentDone = fileData.byteLength === 0 ?\n",
              "          100 :\n",
              "          Math.round((position / fileData.byteLength) * 100);\n",
              "      percent.textContent = `${percentDone}% done`;\n",
              "\n",
              "    } while (position < fileData.byteLength);\n",
              "  }\n",
              "\n",
              "  // All done.\n",
              "  yield {\n",
              "    response: {\n",
              "      action: 'complete',\n",
              "    }\n",
              "  };\n",
              "}\n",
              "\n",
              "scope.google = scope.google || {};\n",
              "scope.google.colab = scope.google.colab || {};\n",
              "scope.google.colab._files = {\n",
              "  _uploadFiles,\n",
              "  _uploadFilesContinue,\n",
              "};\n",
              "})(self);\n",
              "</script> "
            ]
          },
          "metadata": {}
        },
        {
          "output_type": "stream",
          "name": "stdout",
          "text": [
            "Saving ready.outcome2.csv to ready.outcome2.csv\n"
          ]
        }
      ],
      "source": [
        "from google.colab import files\n",
        "\n",
        "uploaded = files.upload()"
      ]
    },
    {
      "cell_type": "code",
      "source": [
        "import pandas as pd\n",
        "import io\n",
        "\n",
        "outcome2 = pd.read_csv(io.BytesIO(uploaded['ready.outcome2.csv']))\n",
        "print(outcome2)"
      ],
      "metadata": {
        "colab": {
          "base_uri": "https://localhost:8080/"
        },
        "id": "vIL84ifkZgEz",
        "outputId": "3b96c663-2200-446d-ef14-2d73db65cf88"
      },
      "execution_count": 2,
      "outputs": [
        {
          "output_type": "stream",
          "name": "stdout",
          "text": [
            "      v000  v007  v012  v013  v025  v106  v190  \\\n",
            "0      NG7  2018    40     6     1     4     5   \n",
            "1      NG7  2018    37     5     1     4     5   \n",
            "2      NG7  2018    27     3     1     4     5   \n",
            "3      NG7  2018    27     3     1     3     5   \n",
            "4      NG7  2018    24     2     1     3     5   \n",
            "...    ...   ...   ...   ...   ...   ...   ...   \n",
            "88392  ZW7  2015    31     4     0     2     2   \n",
            "88393  ZW7  2015    39     5     0     2     3   \n",
            "88394  ZW7  2015    32     4     0     3     3   \n",
            "88395  ZW7  2015    24     2     0     2     2   \n",
            "88396  ZW7  2015    40     6     0     2     3   \n",
            "\n",
            "                                      v501      v501a             v501b  ...  \\\n",
            "0                      living with partner  Unmarried     Never married  ...   \n",
            "1                                  married    Married           Married  ...   \n",
            "2                                  married    Married           Married  ...   \n",
            "3                                  married    Married           Married  ...   \n",
            "4      no longer living together/separated  Unmarried  Formerly married  ...   \n",
            "...                                    ...        ...               ...  ...   \n",
            "88392                              married    Married           Married  ...   \n",
            "88393                              married    Married           Married  ...   \n",
            "88394                              married    Married           Married  ...   \n",
            "88395                              married    Married           Married  ...   \n",
            "88396                              married    Married           Married  ...   \n",
            "\n",
            "       v000_GH6  v000_KE6  v000_ML7  v000_NG7  v000_ZA7  v000_ZM7  v000_ZW7  \\\n",
            "0             0         0         0         1         0         0         0   \n",
            "1             0         0         0         1         0         0         0   \n",
            "2             0         0         0         1         0         0         0   \n",
            "3             0         0         0         1         0         0         0   \n",
            "4             0         0         0         1         0         0         0   \n",
            "...         ...       ...       ...       ...       ...       ...       ...   \n",
            "88392         0         0         0         0         0         0         1   \n",
            "88393         0         0         0         0         0         0         1   \n",
            "88394         0         0         0         0         0         0         1   \n",
            "88395         0         0         0         0         0         0         1   \n",
            "88396         0         0         0         0         0         0         1   \n",
            "\n",
            "       v501b_Formerly married  v501b_Married  v501b_Never married  \n",
            "0                           0              0                    1  \n",
            "1                           0              1                    0  \n",
            "2                           0              1                    0  \n",
            "3                           0              1                    0  \n",
            "4                           1              0                    0  \n",
            "...                       ...            ...                  ...  \n",
            "88392                       0              1                    0  \n",
            "88393                       0              1                    0  \n",
            "88394                       0              1                    0  \n",
            "88395                       0              1                    0  \n",
            "88396                       0              1                    0  \n",
            "\n",
            "[88397 rows x 33 columns]\n"
          ]
        }
      ]
    },
    {
      "cell_type": "code",
      "source": [
        "from sklearn.model_selection import train_test_split\n",
        "outcome2_train, outcome2_test = train_test_split(\n",
        "outcome2, test_size=0.35, stratify=outcome2[['v000', 'v481']])\n",
        "\n",
        "x_train = outcome2_train[['v000_AO7', 'v000_EG6', 'v000_ET7', 'v000_GA6', 'v000_GH6', 'v000_KE6', 'v000_ML7', 'v000_NG7', 'v000_ZA7', \n",
        "                          'v000_ZM7', 'v000_ZW7', 'v013', 'v025', 'v106', 'v190', 'v501b_Formerly married', 'v501b_Married', \n",
        "                          'v501b_Never married', 'v213', 'v228', 'm14', 'ANC.facility', 'v312', 'm15', 'v401', 'child_loss']]\n",
        "y_train = outcome2_train['v481']\n",
        "\n",
        "\n",
        "x_test = outcome2_test[['v000_AO7', 'v000_EG6', 'v000_ET7', 'v000_GA6', 'v000_GH6', 'v000_KE6', 'v000_ML7', 'v000_NG7', 'v000_ZA7', \n",
        "                          'v000_ZM7', 'v000_ZW7', 'v013', 'v025', 'v106', 'v190', 'v501b_Formerly married', 'v501b_Married', \n",
        "                          'v501b_Never married', 'v213', 'v228', 'm14', 'ANC.facility', 'v312', 'm15', 'v401', 'child_loss']]\n",
        "y_test = outcome2_test['v481']\n",
        "\n",
        "\n",
        "print(outcome2_train.shape, outcome2_test.shape)\n",
        "print(x_train.shape, x_test.shape)"
      ],
      "metadata": {
        "colab": {
          "base_uri": "https://localhost:8080/"
        },
        "id": "7eB9Pq84hq6p",
        "outputId": "5b430183-156d-4a99-d233-89cbaef93f7b"
      },
      "execution_count": 3,
      "outputs": [
        {
          "output_type": "stream",
          "name": "stdout",
          "text": [
            "(57458, 33) (30939, 33)\n",
            "(57458, 26) (30939, 26)\n"
          ]
        }
      ]
    },
    {
      "cell_type": "code",
      "source": [
        "# roc curve and auc\n",
        "from sklearn.linear_model import LogisticRegression\n",
        "from sklearn.model_selection import train_test_split\n",
        "from sklearn.metrics import roc_curve\n",
        "from sklearn.metrics import roc_auc_score\n",
        "from matplotlib import pyplot\n",
        "\n",
        "# fit a model\n",
        "model = LogisticRegression(solver='lbfgs')\n",
        "model.fit(x_train, y_train)\n",
        "# predict probabilities\n",
        "lr_probs = model.predict_proba(x_test)\n",
        "# keep probabilities for the positive outcome only\n",
        "lr_probs = lr_probs[:, 1]\n",
        "# calculate scores\n",
        "lr_auc = roc_auc_score(y_test, lr_probs)\n",
        "# summarize scores\n",
        "print('Logistic: ROC AUC=%.3f' % (lr_auc))\n",
        "# calculate roc curves\n",
        "lr_fpr, lr_tpr, _ = roc_curve(y_test, lr_probs)\n",
        "# plot the roc curve for the model\n",
        "pyplot.plot(lr_fpr, lr_tpr, marker='.', label='Logistic')\n",
        "# axis labels\n",
        "pyplot.xlabel('False Positive Rate')\n",
        "pyplot.ylabel('True Positive Rate')\n",
        "# show the legend\n",
        "pyplot.legend()\n",
        "# show the plot\n",
        "pyplot.show()"
      ],
      "metadata": {
        "colab": {
          "base_uri": "https://localhost:8080/",
          "height": 435
        },
        "id": "LifGl5xbbbeB",
        "outputId": "3135f6bd-2f55-4219-93e3-70472ead8861"
      },
      "execution_count": 5,
      "outputs": [
        {
          "output_type": "stream",
          "name": "stderr",
          "text": [
            "/usr/local/lib/python3.8/dist-packages/sklearn/linear_model/_logistic.py:814: ConvergenceWarning: lbfgs failed to converge (status=1):\n",
            "STOP: TOTAL NO. of ITERATIONS REACHED LIMIT.\n",
            "\n",
            "Increase the number of iterations (max_iter) or scale the data as shown in:\n",
            "    https://scikit-learn.org/stable/modules/preprocessing.html\n",
            "Please also refer to the documentation for alternative solver options:\n",
            "    https://scikit-learn.org/stable/modules/linear_model.html#logistic-regression\n",
            "  n_iter_i = _check_optimize_result(\n"
          ]
        },
        {
          "output_type": "stream",
          "name": "stdout",
          "text": [
            "Logistic: ROC AUC=0.897\n"
          ]
        },
        {
          "output_type": "display_data",
          "data": {
            "text/plain": [
              "<Figure size 432x288 with 1 Axes>"
            ],
            "image/png": "[encoded data removed]"
          },
          "metadata": {
            "needs_background": "light"
          }
        }
      ]
    },
    {
      "cell_type": "code",
      "source": [
        "from sklearn.feature_extraction.text import TfidfVectorizer\n",
        "from sklearn.naive_bayes import MultinomialNB\n",
        "from sklearn.pipeline import make_pipeline\n",
        "from sklearn.model_selection import cross_val_score\n",
        "from sklearn.model_selection import cross_val_predict\n",
        "\n",
        "model = MultinomialNB()\n",
        "model.fit(x_train, y_train)\n",
        "labels = model.predict(x_test)\n",
        "nb_train_accuracy = []\n",
        "nb_test_accuracy = []\n",
        "nb_train_accuracy.append(model.score(x_train, y_train))\n",
        "nb_test_accuracy.append(model.score(x_test, y_test))\n",
        "print(nb_train_accuracy, nb_test_accuracy)\n",
        "\n",
        "cv_train = cross_val_score(model, x_train, y_train, cv = 10, scoring = \"accuracy\")\n",
        "cv_test = cross_val_score(model, x_test, y_test, cv = 10, scoring = \"accuracy\")\n",
        "\n",
        "print(\"Percent accuracy within each fold (First): \\n\")\n",
        "print(cv_train, \"\\n\", cv_test)\n",
        "print(\"\\nMean & SD accuracy: \\n\")\n",
        "print(cv_train.mean(), cv_test.mean())\n",
        "print(cv_train.std(), cv_test.std())\n",
        "\n",
        "cv_labels = cross_val_predict(model, x_test, y_test, cv=10)\n",
        "\n",
        "accuracy = pd.DataFrame()\n",
        "accuracy = accuracy.append([[\"Naive Baye's\", (cv_train.mean()), (cv_test.mean())]])"
      ],
      "metadata": {
        "colab": {
          "base_uri": "https://localhost:8080/"
        },
        "id": "tF3B9DfWiGzH",
        "outputId": "a823af5d-93d2-4e92-f29c-16de539af03f"
      },
      "execution_count": null,
      "outputs": [
        {
          "output_type": "stream",
          "name": "stdout",
          "text": [
            "[0.9135716523373595] [0.912505252270597]\n",
            "Percent accuracy within each fold (First): \n",
            "\n",
            "[0.91106857 0.91385312 0.91176471 0.91420118 0.91646363 0.9096763\n",
            " 0.91924817 0.90898016 0.91818973 0.91122715] \n",
            " [0.91758242 0.9114415  0.90723982 0.91305753 0.90950226 0.91338074\n",
            " 0.91758242 0.91628959 0.91241112 0.90688652]\n",
            "\n",
            "Mean & SD accuracy: \n",
            "\n",
            "0.9134672714389879 0.9125373912901725\n",
            "0.003369901614323646 0.003693114477089309\n"
          ]
        }
      ]
    },
    {
      "cell_type": "code",
      "source": [
        "from sklearn.feature_extraction.text import TfidfVectorizer\n",
        "from sklearn.naive_bayes import MultinomialNB\n",
        "from sklearn.pipeline import make_pipeline\n",
        "from sklearn.metrics import roc_curve\n",
        "from sklearn.metrics import roc_auc_score\n",
        "from matplotlib import pyplot\n",
        "\n",
        "\n",
        "# fit a model\n",
        "model_2 = MultinomialNB()\n",
        "model_2.fit(x_train, y_train)\n",
        "# predict probabilities\n",
        "nb_probs = model_2.predict_proba(x_test)\n",
        "# keep probabilities for the positive outcome only\n",
        "nb_probs = nb_probs[:, 1]\n",
        "# calculate scores\n",
        "nb_auc = roc_auc_score(y_test, nb_probs)\n",
        "# summarize scores\n",
        "print('Naive Bayes: ROC AUC=%.3f' % (nb_auc))\n",
        "# calculate roc curves\n",
        "nb_fpr, nb_tpr, _ = roc_curve(y_test, nb_probs)\n",
        "# plot the roc curve for the model\n",
        "pyplot.plot(lr_fpr, lr_tpr, marker='.', label='Naive Bayes')\n",
        "# axis labels\n",
        "pyplot.xlabel('False Positive Rate')\n",
        "pyplot.ylabel('True Positive Rate')\n",
        "# show the legend\n",
        "pyplot.legend()\n",
        "# show the plot\n",
        "pyplot.show()"
      ],
      "metadata": {
        "colab": {
          "base_uri": "https://localhost:8080/",
          "height": 296
        },
        "id": "dmU7JKa6bX0j",
        "outputId": "a4e66e2a-4dfd-480a-82c1-f348c5e73d06"
      },
      "execution_count": 6,
      "outputs": [
        {
          "output_type": "stream",
          "name": "stdout",
          "text": [
            "Naive Bayes: ROC AUC=0.853\n"
          ]
        },
        {
          "output_type": "display_data",
          "data": {
            "text/plain": [
              "<Figure size 432x288 with 1 Axes>"
            ],
            "image/png": "[encoded data removed]"
          },
          "metadata": {
            "needs_background": "light"
          }
        }
      ]
    },
    {
      "cell_type": "code",
      "source": [
        "from sklearn.tree import DecisionTreeClassifier\n",
        "\n",
        "tree = DecisionTreeClassifier(random_state=0)\n",
        "tree.fit(x_train, y_train)\n",
        "labels_tree = tree.predict(x_test)\n",
        "\n",
        "print(\"Accuracy on training set: {:.3f}\".format(tree.score(x_train, y_train)))\n",
        "print(\"Accuracy on test set: {:.3f}\".format(tree.score(x_test, y_test)))\n",
        "\n",
        "cv_train = cross_val_score(tree, x_train, y_train, cv = 10, scoring = \"accuracy\")\n",
        "cv_test = cross_val_score(tree, x_test, y_test, cv = 10, scoring = \"accuracy\")\n",
        "\n",
        "print(\"Percent accuracy within each fold (First): \\n\")\n",
        "print(cv_train, \"\\n\", cv_test)\n",
        "print(\"\\nMean & SD accuracy: \\n\")\n",
        "print(cv_train.mean(), cv_test.mean())\n",
        "print(cv_train.std(), cv_test.std())\n",
        "\n",
        "cv_labels = cross_val_predict(tree, x_test, y_test, cv=10)\n",
        "\n",
        "accuracy = accuracy.append([[\"Decision Tree (Entropy)\", (cv_train.mean()), (cv_test.mean())]])\n"
      ],
      "metadata": {
        "colab": {
          "base_uri": "https://localhost:8080/"
        },
        "id": "9WlX7IBhrrYD",
        "outputId": "9d174e71-73e3-42c1-c582-f45c062a3a27"
      },
      "execution_count": null,
      "outputs": [
        {
          "output_type": "stream",
          "name": "stdout",
          "text": [
            "Accuracy on training set: 0.961\n",
            "Accuracy on test set: 0.898\n",
            "Percent accuracy within each fold (First): \n",
            "\n",
            "[0.90184476 0.90288897 0.90219283 0.90236686 0.89784198 0.89906022\n",
            " 0.90584755 0.8964497  0.89817232 0.89939077] \n",
            " [0.89010989 0.88946348 0.88914027 0.8804137  0.88623142 0.88849386\n",
            " 0.89657401 0.88429218 0.89366516 0.88975105]\n",
            "\n",
            "Mean & SD accuracy: \n",
            "\n",
            "0.9006055962947851 0.8888135019731985\n",
            "0.0027302483319281198 0.00429675810289282\n"
          ]
        }
      ]
    },
    {
      "cell_type": "code",
      "source": [
        "from sklearn.tree import DecisionTreeClassifier\n",
        "\n",
        "clf_gini = DecisionTreeClassifier(criterion = \"gini\", random_state = 100, max_depth = 10, min_samples_leaf=1)\n",
        "clf_gini.fit(x_train, y_train)\n",
        "labels_gini = clf_gini.predict(x_test)\n",
        "\n",
        "print(\"Accuracy on training set: {:.3f}\".format(clf_gini.score(x_train, y_train)))\n",
        "print(\"Accuracy on test set: {:.3f}\".format(clf_gini.score(x_test, y_test)))\n",
        "\n",
        "cv_train = cross_val_score(clf_gini, x_train, y_train, cv = 10, scoring = \"accuracy\")\n",
        "cv_test = cross_val_score(clf_gini, x_test, y_test, cv = 10, scoring = \"accuracy\")\n",
        "\n",
        "print(\"Percent accuracy within each fold (First): \\n\")\n",
        "print(cv_train, \"\\n\", cv_test)\n",
        "print(\"\\nMean & SD accuracy: \\n\")\n",
        "print(cv_train.mean(), cv_test.mean())\n",
        "print(cv_train.std(), cv_test.std())\n",
        "\n",
        "cv_labels = cross_val_predict(clf_gini, x_test, y_test, cv=10)\n",
        "\n",
        "accuracy = accuracy.append([[\"Decision Tree (Gini)\", (cv_train.mean()), (cv_test.mean())]])"
      ],
      "metadata": {
        "colab": {
          "base_uri": "https://localhost:8080/"
        },
        "id": "7zSN6GAIvL8X",
        "outputId": "704ec4e8-a944-49f3-99da-ba5fef8cf5e0"
      },
      "execution_count": null,
      "outputs": [
        {
          "output_type": "stream",
          "name": "stdout",
          "text": [
            "Accuracy on training set: 0.929\n",
            "Accuracy on test set: 0.916\n",
            "Percent accuracy within each fold (First): \n",
            "\n",
            "[0.91820397 0.91489732 0.91576749 0.92064045 0.91507135 0.9178559\n",
            " 0.91715976 0.9173338  0.91818973 0.91662315] \n",
            " [0.91305753 0.91241112 0.91111829 0.90497738 0.91531997 0.91079509\n",
            " 0.91693601 0.91338074 0.91790562 0.90817976]\n",
            "\n",
            "Mean & SD accuracy: \n",
            "\n",
            "0.9171742919053386 0.9124081506063589\n",
            "0.0016274399443618715 0.0037139120256914947\n"
          ]
        }
      ]
    },
    {
      "cell_type": "code",
      "source": [
        "from sklearn.feature_extraction.text import TfidfVectorizer\n",
        "from sklearn.metrics import roc_curve\n",
        "from sklearn.metrics import roc_auc_score\n",
        "from matplotlib import pyplot\n",
        "from sklearn.tree import DecisionTreeClassifier\n",
        "\n",
        "# fit a model\n",
        "model_2 = DecisionTreeClassifier(criterion = \"gini\", random_state = 100, max_depth = 10, min_samples_leaf=1)\n",
        "model_2.fit(x_train, y_train)\n",
        "# predict probabilities\n",
        "dtc_probs = model_2.predict_proba(x_test)\n",
        "# keep probabilities for the positive outcome only\n",
        "dtc_probs = dtc_probs[:, 1]\n",
        "# calculate scores\n",
        "dtc_auc = roc_auc_score(y_test, dtc_probs)\n",
        "# summarize scores\n",
        "print('Decision Tree: ROC AUC=%.3f' % (dtc_auc))\n",
        "# calculate roc curves\n",
        "dtc_fpr, dtc_tpr, _ = roc_curve(y_test, dtc_probs)\n",
        "# plot the roc curve for the model\n",
        "pyplot.plot(dtc_fpr, dtc_tpr, marker='.', label='Decision Tree')\n",
        "# axis labels\n",
        "pyplot.xlabel('False Positive Rate')\n",
        "pyplot.ylabel('True Positive Rate')\n",
        "# show the legend\n",
        "pyplot.legend()\n",
        "# show the plot\n",
        "pyplot.show()"
      ],
      "metadata": {
        "colab": {
          "base_uri": "https://localhost:8080/",
          "height": 296
        },
        "id": "RlJb7Yi4cl4d",
        "outputId": "7168ad65-7171-49b0-a289-608e39076c50"
      },
      "execution_count": 8,
      "outputs": [
        {
          "output_type": "stream",
          "name": "stdout",
          "text": [
            "Decision Tree: ROC AUC=0.886\n"
          ]
        },
        {
          "output_type": "display_data",
          "data": {
            "text/plain": [
              "<Figure size 432x288 with 1 Axes>"
            ],
            "image/png": "[encoded data removed]"
          },
          "metadata": {
            "needs_background": "light"
          }
        }
      ]
    },
    {
      "cell_type": "code",
      "source": [
        "from sklearn.feature_extraction.text import TfidfVectorizer\n",
        "from sklearn.metrics import roc_curve\n",
        "from sklearn.metrics import roc_auc_score\n",
        "from matplotlib import pyplot\n",
        "from sklearn.tree import DecisionTreeClassifier\n",
        "\n",
        "# fit a model\n",
        "model_2 = DecisionTreeClassifier(random_state=0)\n",
        "model_2.fit(x_train, y_train)\n",
        "# predict probabilities\n",
        "dtc_probs = model_2.predict_proba(x_test)\n",
        "# keep probabilities for the positive outcome only\n",
        "dtc_probs = dtc_probs[:, 1]\n",
        "# calculate scores\n",
        "dtc_auc = roc_auc_score(y_test, dtc_probs)\n",
        "# summarize scores\n",
        "print('Decision Tree: ROC AUC=%.3f' % (dtc_auc))\n",
        "# calculate roc curves\n",
        "dtc_fpr, dtc_tpr, _ = roc_curve(y_test, dtc_probs)\n",
        "# plot the roc curve for the model\n",
        "pyplot.plot(dtc_fpr, dtc_tpr, marker='.', label='Decision Tree')\n",
        "# axis labels\n",
        "pyplot.xlabel('False Positive Rate')\n",
        "pyplot.ylabel('True Positive Rate')\n",
        "# show the legend\n",
        "pyplot.legend()\n",
        "# show the plot\n",
        "pyplot.show()"
      ],
      "metadata": {
        "colab": {
          "base_uri": "https://localhost:8080/",
          "height": 296
        },
        "id": "NoTWfIe2cVxm",
        "outputId": "eccb6eb8-a245-4000-9979-1d51f2568d33"
      },
      "execution_count": 7,
      "outputs": [
        {
          "output_type": "stream",
          "name": "stdout",
          "text": [
            "Decision Tree: ROC AUC=0.763\n"
          ]
        },
        {
          "output_type": "display_data",
          "data": {
            "text/plain": [
              "<Figure size 432x288 with 1 Axes>"
            ],
            "image/png": "[encoded data removed]"
          },
          "metadata": {
            "needs_background": "light"
          }
        }
      ]
    },
    {
      "cell_type": "code",
      "source": [
        "from sklearn.ensemble import RandomForestClassifier\n",
        "\n",
        "forest = RandomForestClassifier(n_estimators=100, random_state=0)\n",
        "forest.fit(x_train, y_train)\n",
        "labels_rf = forest.predict(x_test)\n",
        "\n",
        "print(\"Accuracy on training set: {:.3f}\".format(forest.score(x_train, y_train)))\n",
        "print(\"Accuracy on test set: {:.3f}\".format(forest.score(x_test, y_test)))\n",
        "\n",
        "cv_train = cross_val_score(forest, x_train, y_train, cv = 10, scoring = \"accuracy\")\n",
        "cv_test = cross_val_score(forest, x_test, y_test, cv = 10, scoring = \"accuracy\")\n",
        "\n",
        "print(\"Percent accuracy within each fold (First): \\n\")\n",
        "print(cv_train, \"\\n\", cv_test)\n",
        "print(\"\\nMean & SD accuracy: \\n\")\n",
        "print(cv_train.mean(), cv_test.mean())\n",
        "print(cv_train.std(), cv_test.std())\n",
        "\n",
        "cv_labels = cross_val_predict(forest, x_test, y_test, cv=10)\n",
        "\n",
        "accuracy = accuracy.append([[\"Random Forest\", (cv_train.mean()), (cv_test.mean())]])\n"
      ],
      "metadata": {
        "colab": {
          "base_uri": "https://localhost:8080/"
        },
        "id": "VJZ1eQX8xByl",
        "outputId": "3bc11b3a-d6d7-4972-caa0-d3d0714037ca"
      },
      "execution_count": null,
      "outputs": [
        {
          "output_type": "stream",
          "name": "stdout",
          "text": [
            "Accuracy on training set: 0.961\n",
            "Accuracy on test set: 0.909\n",
            "Percent accuracy within each fold (First): \n",
            "\n",
            "[0.91333101 0.91507135 0.91193874 0.9168117  0.91211277 0.91089454\n",
            " 0.91350505 0.90880613 0.91314186 0.90966057] \n",
            " [0.90562379 0.9062702  0.90788623 0.90077569 0.90174531 0.90077569\n",
            " 0.91241112 0.90820944 0.90982547 0.9033301 ]\n",
            "\n",
            "Mean & SD accuracy: \n",
            "\n",
            "0.9125273721273389 0.9056853047866913\n",
            "0.002281606652174675 0.0037844126928809284\n"
          ]
        }
      ]
    },
    {
      "cell_type": "code",
      "source": [
        "from sklearn.feature_extraction.text import TfidfVectorizer\n",
        "from sklearn.metrics import roc_curve\n",
        "from sklearn.metrics import roc_auc_score\n",
        "from matplotlib import pyplot\n",
        "from sklearn.ensemble import RandomForestClassifier\n",
        "\n",
        "# fit a model\n",
        "model_2 = RandomForestClassifier(n_estimators=100, random_state=0)\n",
        "model_2.fit(x_train, y_train)\n",
        "# predict probabilities\n",
        "dtc_probs = model_2.predict_proba(x_test)\n",
        "# keep probabilities for the positive outcome only\n",
        "dtc_probs = dtc_probs[:, 1]\n",
        "# calculate scores\n",
        "dtc_auc = roc_auc_score(y_test, dtc_probs)\n",
        "# summarize scores\n",
        "print('Random Forest: ROC AUC=%.3f' % (dtc_auc))\n",
        "# calculate roc curves\n",
        "dtc_fpr, dtc_tpr, _ = roc_curve(y_test, dtc_probs)\n",
        "# plot the roc curve for the model\n",
        "pyplot.plot(dtc_fpr, dtc_tpr, marker='.', label='Random Forest')\n",
        "# axis labels\n",
        "pyplot.xlabel('False Positive Rate')\n",
        "pyplot.ylabel('True Positive Rate')\n",
        "# show the legend\n",
        "pyplot.legend()\n",
        "# show the plot\n",
        "pyplot.show()"
      ],
      "metadata": {
        "colab": {
          "base_uri": "https://localhost:8080/",
          "height": 296
        },
        "id": "aQeFwu0rciDi",
        "outputId": "dbdf2364-9917-4693-b666-d53194c9b2a6"
      },
      "execution_count": 9,
      "outputs": [
        {
          "output_type": "stream",
          "name": "stdout",
          "text": [
            "Random Forest: ROC AUC=0.880\n"
          ]
        },
        {
          "output_type": "display_data",
          "data": {
            "text/plain": [
              "<Figure size 432x288 with 1 Axes>"
            ],
            "image/png": "[encoded data removed]"
          },
          "metadata": {
            "needs_background": "light"
          }
        }
      ]
    },
    {
      "cell_type": "code",
      "source": [
        "from sklearn.ensemble import GradientBoostingClassifier\n",
        "\n",
        "gbrt = GradientBoostingClassifier(random_state=0, max_depth = 10)\n",
        "gbrt.fit(x_train, y_train)\n",
        "labels_gbrt = gbrt.predict(x_test)\n",
        "\n",
        "print(\"Accuracy on training set: {:.3f}\".format(gbrt.score(x_train, y_train)))\n",
        "print(\"Accuracy on test set: {:.3f}\".format(gbrt.score(x_test, y_test)))\n",
        "\n",
        "cv_train = cross_val_score(gbrt, x_train, y_train, cv = 10, scoring = \"accuracy\")\n",
        "cv_test = cross_val_score(gbrt, x_test, y_test, cv = 10, scoring = \"accuracy\")\n",
        "\n",
        "print(\"Percent accuracy within each fold (First): \\n\")\n",
        "print(cv_train, \"\\n\", cv_test)\n",
        "print(\"\\nMean & SD accuracy: \\n\")\n",
        "print(cv_train.mean(), cv_test.mean())\n",
        "print(cv_train.std(), cv_test.std())\n",
        "\n",
        "cv_labels = cross_val_predict(gbrt, x_test, y_test, cv=10)\n",
        "\n",
        "accuracy = accuracy.append([[\"Gradient Boost\", (cv_train.mean()), (cv_test.mean())]])\n"
      ],
      "metadata": {
        "colab": {
          "base_uri": "https://localhost:8080/"
        },
        "id": "nWiHY6E2yjpz",
        "outputId": "92e82b87-3992-410f-b147-068934720b3c"
      },
      "execution_count": null,
      "outputs": [
        {
          "output_type": "stream",
          "name": "stdout",
          "text": [
            "Accuracy on training set: 0.952\n",
            "Accuracy on test set: 0.912\n",
            "Percent accuracy within each fold (First): \n",
            "\n",
            "[0.91646363 0.91350505 0.91367908 0.918378   0.91385312 0.91541942\n",
            " 0.91872607 0.91141664 0.91679721 0.91470844] \n",
            " [0.90982547 0.90400776 0.90950226 0.90077569 0.90271493 0.90982547\n",
            " 0.91758242 0.90885585 0.90982547 0.909473  ]\n",
            "\n",
            "Mean & SD accuracy: \n",
            "\n",
            "0.91529466595296 0.908238832353056\n",
            "0.002195332906168908 0.0044996540716247405\n"
          ]
        }
      ]
    },
    {
      "cell_type": "code",
      "source": [
        "from sklearn.feature_extraction.text import TfidfVectorizer\n",
        "from sklearn.metrics import roc_curve\n",
        "from sklearn.metrics import roc_auc_score\n",
        "from matplotlib import pyplot\n",
        "from sklearn.ensemble import GradientBoostingClassifier\n",
        "\n",
        "# fit a model\n",
        "model_2 = GradientBoostingClassifier(random_state=0, max_depth = 10)\n",
        "model_2.fit(x_train, y_train)\n",
        "# predict probabilities\n",
        "dtc_probs = model_2.predict_proba(x_test)\n",
        "# keep probabilities for the positive outcome only\n",
        "dtc_probs = dtc_probs[:, 1]\n",
        "# calculate scores\n",
        "dtc_auc = roc_auc_score(y_test, dtc_probs)\n",
        "# summarize scores\n",
        "print('Decision Tree: ROC AUC=%.3f' % (dtc_auc))\n",
        "# calculate roc curves\n",
        "dtc_fpr, dtc_tpr, _ = roc_curve(y_test, dtc_probs)\n",
        "# plot the roc curve for the model\n",
        "pyplot.plot(dtc_fpr, dtc_tpr, marker='.', label='Gradient Boosting')\n",
        "# axis labels\n",
        "pyplot.xlabel('False Positive Rate')\n",
        "pyplot.ylabel('True Positive Rate')\n",
        "# show the legend\n",
        "pyplot.legend()\n",
        "# show the plot\n",
        "pyplot.show()"
      ],
      "metadata": {
        "colab": {
          "base_uri": "https://localhost:8080/",
          "height": 296
        },
        "id": "F98ncZccdBsK",
        "outputId": "7f0b29da-1c06-4e1b-9e4a-758091f0bdd2"
      },
      "execution_count": 10,
      "outputs": [
        {
          "output_type": "stream",
          "name": "stdout",
          "text": [
            "Decision Tree: ROC AUC=0.899\n"
          ]
        },
        {
          "output_type": "display_data",
          "data": {
            "text/plain": [
              "<Figure size 432x288 with 1 Axes>"
            ],
            "image/png": "[encoded data removed]"
          },
          "metadata": {
            "needs_background": "light"
          }
        }
      ]
    },
    {
      "cell_type": "code",
      "source": [
        "from sklearn.svm import SVC\n",
        "\n",
        "svc = SVC()\n",
        "svc.fit(x_train, y_train)\n",
        "labels_svc = svc.predict(x_test)\n",
        "\n",
        "print(\"Accuracy on training set: {:.3f}\".format(svc.score(x_train, y_train)))\n",
        "print(\"Accuracy on test set: {:.3f}\".format(svc.score(x_test, y_test)))\n",
        "\n",
        "cv_train = cross_val_score(svc, x_train, y_train, cv = 10, scoring = \"accuracy\")\n",
        "cv_test = cross_val_score(svc, x_test, y_test, cv = 10, scoring = \"accuracy\")\n",
        "\n",
        "print(\"Percent accuracy within each fold (First): \\n\")\n",
        "print(cv_train, \"\\n\", cv_test)\n",
        "print(\"\\nMean & SD accuracy: \\n\")\n",
        "print(cv_train.mean(), cv_test.mean())\n",
        "print(cv_train.std(), cv_test.std())\n",
        "\n",
        "cv_labels = cross_val_predict(svc, x_test, y_test, cv=10)\n",
        "\n",
        "accuracy = accuracy.append([[\"SVM\", (cv_train.mean()), (cv_test.mean())]])"
      ],
      "metadata": {
        "colab": {
          "base_uri": "https://localhost:8080/"
        },
        "id": "QHX4YmL0H-Wk",
        "outputId": "1f8334e4-595b-4fa2-9669-c84e4ea23e62"
      },
      "execution_count": null,
      "outputs": [
        {
          "output_type": "stream",
          "name": "stdout",
          "text": [
            "Accuracy on training set: 0.918\n",
            "Accuracy on test set: 0.917\n",
            "Percent accuracy within each fold (First): \n",
            "\n",
            "[0.91420118 0.91768187 0.9168117  0.91994431 0.92220675 0.91507135\n",
            " 0.9244692  0.91176471 0.91993037 0.9129678 ] \n",
            " [0.92049127 0.91822883 0.90982547 0.91758242 0.91467356 0.91596639\n",
            " 0.92146089 0.91725921 0.91467356 0.9123828 ]\n",
            "\n",
            "Mean & SD accuracy: \n",
            "\n",
            "0.9175049233931836 0.9162544402973454\n",
            "0.0039156881758704775 0.003363507145887208\n"
          ]
        }
      ]
    },
    {
      "cell_type": "code",
      "source": [
        "from sklearn.neighbors import KNeighborsClassifier\n",
        "knn_train_accuracy = []\n",
        "knn_test_accuracy = []\n",
        "\n",
        "neighbors_settings = range(1, 20)\n",
        "\n",
        "for n_neighbors in neighbors_settings:\n",
        "    clf = KNeighborsClassifier(n_neighbors = n_neighbors)\n",
        "    clf.fit(x_train, y_train)\n",
        "\n",
        "    knn_train_accuracy.append(clf.score(x_train, y_train))\n",
        "    knn_test_accuracy.append(clf.score(x_test, y_test))\n",
        "\n",
        "print (knn_train_accuracy)\n",
        "print (knn_test_accuracy)"
      ],
      "metadata": {
        "colab": {
          "base_uri": "https://localhost:8080/"
        },
        "id": "ihQrrvSEms73",
        "outputId": "8a88e624-e7a8-4b77-cc0f-74ba41fafdcf"
      },
      "execution_count": null,
      "outputs": [
        {
          "output_type": "stream",
          "name": "stdout",
          "text": [
            "[0.9477531414250409, 0.9312889414876954, 0.9328727070207804, 0.9285913188763967, 0.928660934943785, 0.9256848480629329, 0.9263984127536635, 0.9238922343276829, 0.9242229106477775, 0.9224651049462216, 0.923143861603258, 0.9213860559017021, 0.9223780848619861, 0.9206898952278186, 0.9213512478680079, 0.9198893104528525, 0.9208465313794424, 0.9204114309582652, 0.9210379755647603]\n",
            "[0.8841591518795048, 0.90222696273312, 0.9045218009631856, 0.9093377290798021, 0.9120527489576263, 0.9114063156533825, 0.9130870422444164, 0.9124082872749604, 0.9146384821746016, 0.9139274055399335, 0.9152525938136333, 0.9135395455573871, 0.9152849154788455, 0.9151233071527846, 0.9154142021396943, 0.9138304405442969, 0.9155111671353308, 0.9152849154788455, 0.9160283137787258]\n"
          ]
        }
      ]
    },
    {
      "cell_type": "code",
      "source": [
        "%matplotlib inline\n",
        "import matplotlib.pyplot as plt\n",
        "\n",
        "plt.plot(neighbors_settings, knn_train_accuracy, label= \"Trained data accuracy\")\n",
        "plt.plot(neighbors_settings, knn_test_accuracy, label= \"Test data accuracy\")\n",
        "plt.ylabel(\"Accuracy\")\n",
        "plt.xlabel(\"n_neighbors\")\n",
        "plt.legend()\n"
      ],
      "metadata": {
        "colab": {
          "base_uri": "https://localhost:8080/",
          "height": 298
        },
        "id": "bz8FpNHIm5hV",
        "outputId": "3d9eaaf8-1140-4bde-a862-38190150f662"
      },
      "execution_count": null,
      "outputs": [
        {
          "output_type": "execute_result",
          "data": {
            "text/plain": [
              "<matplotlib.legend.Legend at 0x7f1859247490>"
            ]
          },
          "metadata": {},
          "execution_count": 9
        },
        {
          "output_type": "display_data",
          "data": {
            "text/plain": [
              "<Figure size 432x288 with 1 Axes>"
            ],
            "image/png": "[encoded data removed]"
          },
          "metadata": {
            "needs_background": "light"
          }
        }
      ]
    },
    {
      "cell_type": "code",
      "source": [
        "clf = KNeighborsClassifier(n_neighbors = 20)\n",
        "\n",
        "clf.fit(x_train, y_train)\n",
        "\n",
        "print(\"Accuracy on training set: {:.3f}\".format(clf.score(x_train, y_train)))\n",
        "print(\"Accuracy on test set: {:.3f}\".format(clf.score(x_test, y_test)))\n",
        "\n",
        "cv_train = cross_val_score(clf, x_train, y_train, cv = 10, scoring = \"accuracy\")\n",
        "cv_test = cross_val_score(clf, x_test, y_test, cv = 10, scoring = \"accuracy\")\n",
        "\n",
        "print(\"Percent accuracy within each fold (First): \\n\")\n",
        "print(cv_train, \"\\n\", cv_test)\n",
        "print(\"\\nMean & SD accuracy: \\n\")\n",
        "print(cv_train.mean(), cv_test.mean())\n",
        "print(cv_train.std(), cv_test.std())\n",
        "\n",
        "cv_labels = cross_val_predict(clf, x_test, y_test, cv=10)\n",
        "\n",
        "accuracy = accuracy.append([[\"KNN\", (cv_train.mean()), (cv_test.mean())]])\n"
      ],
      "metadata": {
        "colab": {
          "base_uri": "https://localhost:8080/"
        },
        "id": "q7ZZGqggkhYV",
        "outputId": "00ca03e6-c771-4e46-bb4a-90b44f99b9af"
      },
      "execution_count": null,
      "outputs": [
        {
          "output_type": "stream",
          "name": "stdout",
          "text": [
            "Accuracy on training set: 0.920\n",
            "Accuracy on test set: 0.915\n",
            "Percent accuracy within each fold (First): \n",
            "\n",
            "[0.91176471 0.91750783 0.91576749 0.91176471 0.91663766 0.90985033\n",
            " 0.918378   0.90898016 0.91331593 0.91523064] \n",
            " [0.90465417 0.90950226 0.90853264 0.91014867 0.90723982 0.91047188\n",
            " 0.91370394 0.91370394 0.90659341 0.90850307]\n",
            "\n",
            "Mean & SD accuracy: \n",
            "\n",
            "0.9139197449801989 0.9093053814825938\n",
            "0.003096493187079155 0.0027441077092316643\n"
          ]
        }
      ]
    }
  ]
}