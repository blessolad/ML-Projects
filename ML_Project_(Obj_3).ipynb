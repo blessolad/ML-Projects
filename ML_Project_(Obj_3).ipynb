{
  "nbformat": 4,
  "nbformat_minor": 0,
  "metadata": {
    "colab": {
      "provenance": []
    },
    "kernelspec": {
      "name": "python3",
      "display_name": "Python 3"
    },
    "language_info": {
      "name": "python"
    }
  },
  "cells": [
    {
      "cell_type": "code",
      "execution_count": 1,
      "metadata": {
        "colab": {
          "base_uri": "https://localhost:8080/",
          "height": 73
        },
        "id": "l_TEm7vjQ_nD",
        "outputId": "fed3b1a3-61ef-4d30-f1e1-59dd27f71f1a"
      },
      "outputs": [
        {
          "output_type": "display_data",
          "data": {
            "text/plain": [
              "<IPython.core.display.HTML object>"
            ],
            "text/html": [
              "\n",
              "     <input type=\"file\" id=\"files-b96ba557-8c7e-4456-9de5-989ecbba0866\" name=\"files[]\" multiple disabled\n",
              "        style=\"border:none\" />\n",
              "     <output id=\"result-b96ba557-8c7e-4456-9de5-989ecbba0866\">\n",
              "      Upload widget is only available when the cell has been executed in the\n",
              "      current browser session. Please rerun this cell to enable.\n",
              "      </output>\n",
              "      <script>// Copyright 2017 Google LLC\n",
              "//\n",
              "// Licensed under the Apache License, Version 2.0 (the \"License\");\n",
              "// you may not use this file except in compliance with the License.\n",
              "// You may obtain a copy of the License at\n",
              "//\n",
              "//      http://www.apache.org/licenses/LICENSE-2.0\n",
              "//\n",
              "// Unless required by applicable law or agreed to in writing, software\n",
              "// distributed under the License is distributed on an \"AS IS\" BASIS,\n",
              "// WITHOUT WARRANTIES OR CONDITIONS OF ANY KIND, either express or implied.\n",
              "// See the License for the specific language governing permissions and\n",
              "// limitations under the License.\n",
              "\n",
              "/**\n",
              " * @fileoverview Helpers for google.colab Python module.\n",
              " */\n",
              "(function(scope) {\n",
              "function span(text, styleAttributes = {}) {\n",
              "  const element = document.createElement('span');\n",
              "  element.textContent = text;\n",
              "  for (const key of Object.keys(styleAttributes)) {\n",
              "    element.style[key] = styleAttributes[key];\n",
              "  }\n",
              "  return element;\n",
              "}\n",
              "\n",
              "// Max number of bytes which will be uploaded at a time.\n",
              "const MAX_PAYLOAD_SIZE = 100 * 1024;\n",
              "\n",
              "function _uploadFiles(inputId, outputId) {\n",
              "  const steps = uploadFilesStep(inputId, outputId);\n",
              "  const outputElement = document.getElementById(outputId);\n",
              "  // Cache steps on the outputElement to make it available for the next call\n",
              "  // to uploadFilesContinue from Python.\n",
              "  outputElement.steps = steps;\n",
              "\n",
              "  return _uploadFilesContinue(outputId);\n",
              "}\n",
              "\n",
              "// This is roughly an async generator (not supported in the browser yet),\n",
              "// where there are multiple asynchronous steps and the Python side is going\n",
              "// to poll for completion of each step.\n",
              "// This uses a Promise to block the python side on completion of each step,\n",
              "// then passes the result of the previous step as the input to the next step.\n",
              "function _uploadFilesContinue(outputId) {\n",
              "  const outputElement = document.getElementById(outputId);\n",
              "  const steps = outputElement.steps;\n",
              "\n",
              "  const next = steps.next(outputElement.lastPromiseValue);\n",
              "  return Promise.resolve(next.value.promise).then((value) => {\n",
              "    // Cache the last promise value to make it available to the next\n",
              "    // step of the generator.\n",
              "    outputElement.lastPromiseValue = value;\n",
              "    return next.value.response;\n",
              "  });\n",
              "}\n",
              "\n",
              "/**\n",
              " * Generator function which is called between each async step of the upload\n",
              " * process.\n",
              " * @param {string} inputId Element ID of the input file picker element.\n",
              " * @param {string} outputId Element ID of the output display.\n",
              " * @return {!Iterable<!Object>} Iterable of next steps.\n",
              " */\n",
              "function* uploadFilesStep(inputId, outputId) {\n",
              "  const inputElement = document.getElementById(inputId);\n",
              "  inputElement.disabled = false;\n",
              "\n",
              "  const outputElement = document.getElementById(outputId);\n",
              "  outputElement.innerHTML = '';\n",
              "\n",
              "  const pickedPromise = new Promise((resolve) => {\n",
              "    inputElement.addEventListener('change', (e) => {\n",
              "      resolve(e.target.files);\n",
              "    });\n",
              "  });\n",
              "\n",
              "  const cancel = document.createElement('button');\n",
              "  inputElement.parentElement.appendChild(cancel);\n",
              "  cancel.textContent = 'Cancel upload';\n",
              "  const cancelPromise = new Promise((resolve) => {\n",
              "    cancel.onclick = () => {\n",
              "      resolve(null);\n",
              "    };\n",
              "  });\n",
              "\n",
              "  // Wait for the user to pick the files.\n",
              "  const files = yield {\n",
              "    promise: Promise.race([pickedPromise, cancelPromise]),\n",
              "    response: {\n",
              "      action: 'starting',\n",
              "    }\n",
              "  };\n",
              "\n",
              "  cancel.remove();\n",
              "\n",
              "  // Disable the input element since further picks are not allowed.\n",
              "  inputElement.disabled = true;\n",
              "\n",
              "  if (!files) {\n",
              "    return {\n",
              "      response: {\n",
              "        action: 'complete',\n",
              "      }\n",
              "    };\n",
              "  }\n",
              "\n",
              "  for (const file of files) {\n",
              "    const li = document.createElement('li');\n",
              "    li.append(span(file.name, {fontWeight: 'bold'}));\n",
              "    li.append(span(\n",
              "        `(${file.type || 'n/a'}) - ${file.size} bytes, ` +\n",
              "        `last modified: ${\n",
              "            file.lastModifiedDate ? file.lastModifiedDate.toLocaleDateString() :\n",
              "                                    'n/a'} - `));\n",
              "    const percent = span('0% done');\n",
              "    li.appendChild(percent);\n",
              "\n",
              "    outputElement.appendChild(li);\n",
              "\n",
              "    const fileDataPromise = new Promise((resolve) => {\n",
              "      const reader = new FileReader();\n",
              "      reader.onload = (e) => {\n",
              "        resolve(e.target.result);\n",
              "      };\n",
              "      reader.readAsArrayBuffer(file);\n",
              "    });\n",
              "    // Wait for the data to be ready.\n",
              "    let fileData = yield {\n",
              "      promise: fileDataPromise,\n",
              "      response: {\n",
              "        action: 'continue',\n",
              "      }\n",
              "    };\n",
              "\n",
              "    // Use a chunked sending to avoid message size limits. See b/62115660.\n",
              "    let position = 0;\n",
              "    do {\n",
              "      const length = Math.min(fileData.byteLength - position, MAX_PAYLOAD_SIZE);\n",
              "      const chunk = new Uint8Array(fileData, position, length);\n",
              "      position += length;\n",
              "\n",
              "      const base64 = btoa(String.fromCharCode.apply(null, chunk));\n",
              "      yield {\n",
              "        response: {\n",
              "          action: 'append',\n",
              "          file: file.name,\n",
              "          data: base64,\n",
              "        },\n",
              "      };\n",
              "\n",
              "      let percentDone = fileData.byteLength === 0 ?\n",
              "          100 :\n",
              "          Math.round((position / fileData.byteLength) * 100);\n",
              "      percent.textContent = `${percentDone}% done`;\n",
              "\n",
              "    } while (position < fileData.byteLength);\n",
              "  }\n",
              "\n",
              "  // All done.\n",
              "  yield {\n",
              "    response: {\n",
              "      action: 'complete',\n",
              "    }\n",
              "  };\n",
              "}\n",
              "\n",
              "scope.google = scope.google || {};\n",
              "scope.google.colab = scope.google.colab || {};\n",
              "scope.google.colab._files = {\n",
              "  _uploadFiles,\n",
              "  _uploadFilesContinue,\n",
              "};\n",
              "})(self);\n",
              "</script> "
            ]
          },
          "metadata": {}
        },
        {
          "output_type": "stream",
          "name": "stdout",
          "text": [
            "Saving ready.outcome3.csv to ready.outcome3.csv\n"
          ]
        }
      ],
      "source": [
        "from google.colab import files\n",
        "\n",
        "uploaded = files.upload()"
      ]
    },
    {
      "cell_type": "code",
      "source": [
        "import pandas as pd\n",
        "import io\n",
        "\n",
        "outcome3 = pd.read_csv(io.BytesIO(uploaded['ready.outcome3.csv']))\n",
        "print(outcome3)"
      ],
      "metadata": {
        "colab": {
          "base_uri": "https://localhost:8080/"
        },
        "id": "4IGy0cRhdDSj",
        "outputId": "170eb7df-ab91-43f0-c755-37f97f423621"
      },
      "execution_count": 2,
      "outputs": [
        {
          "output_type": "stream",
          "name": "stdout",
          "text": [
            "      v000  v007  v013  v025  v106  v190                                 v501  \\\n",
            "0      NG7  2018     6     1     4     5                  living with partner   \n",
            "1      NG7  2018     5     1     4     5                              married   \n",
            "2      NG7  2018     3     1     4     5                              married   \n",
            "3      NG7  2018     3     1     3     5                              married   \n",
            "4      NG7  2018     2     1     3     5  no longer living together/separated   \n",
            "...    ...   ...   ...   ...   ...   ...                                  ...   \n",
            "88268  ZW7  2015     5     0     2     3                              married   \n",
            "88269  ZW7  2015     4     0     3     3                              married   \n",
            "88270  ZW7  2015     2     0     2     2                              married   \n",
            "88271  ZW7  2015     6     0     2     3                              married   \n",
            "88272  ZW7  2015     6     0     2     3                              married   \n",
            "\n",
            "           v501a             v501b  b0  ...  v000_AO7  v000_ET7  v000_ML7  \\\n",
            "0      Unmarried     Never married   0  ...         0         0         0   \n",
            "1        Married           Married   0  ...         0         0         0   \n",
            "2        Married           Married   0  ...         0         0         0   \n",
            "3        Married           Married   0  ...         0         0         0   \n",
            "4      Unmarried  Formerly married   0  ...         0         0         0   \n",
            "...          ...               ...  ..  ...       ...       ...       ...   \n",
            "88268    Married           Married   0  ...         0         0         0   \n",
            "88269    Married           Married   0  ...         0         0         0   \n",
            "88270    Married           Married   0  ...         0         0         0   \n",
            "88271    Married           Married   0  ...         0         0         0   \n",
            "88272    Married           Married   0  ...         0         0         0   \n",
            "\n",
            "       v000_NG7  v000_ZA7  v000_ZM7  v000_ZW7  v501b_Formerly married  \\\n",
            "0             1         0         0         0                       0   \n",
            "1             1         0         0         0                       0   \n",
            "2             1         0         0         0                       0   \n",
            "3             1         0         0         0                       0   \n",
            "4             1         0         0         0                       1   \n",
            "...         ...       ...       ...       ...                     ...   \n",
            "88268         0         0         0         1                       0   \n",
            "88269         0         0         0         1                       0   \n",
            "88270         0         0         0         1                       0   \n",
            "88271         0         0         0         1                       0   \n",
            "88272         0         0         0         1                       0   \n",
            "\n",
            "       v501b_Married  v501b_Never married  \n",
            "0                  0                    1  \n",
            "1                  1                    0  \n",
            "2                  1                    0  \n",
            "3                  1                    0  \n",
            "4                  0                    0  \n",
            "...              ...                  ...  \n",
            "88268              1                    0  \n",
            "88269              1                    0  \n",
            "88270              1                    0  \n",
            "88271              1                    0  \n",
            "88272              1                    0  \n",
            "\n",
            "[88273 rows x 28 columns]\n"
          ]
        }
      ]
    },
    {
      "cell_type": "code",
      "source": [
        "from sklearn.model_selection import train_test_split\n",
        "outcome3_train, outcome3_test = train_test_split(\n",
        "outcome3, test_size=0.25, stratify=outcome3[['v000', 'child.status']])\n",
        "\n",
        "x_train = outcome3_train[['v000_AO7', 'v000_ET7', 'v000_ML7', 'v000_NG7', 'v000_ZA7', 'v000_ZM7', 'v000_ZW7',\n",
        "                          'v013', 'v025', 'v106', 'v190', 'v501b_Formerly married', 'v501b_Married', \n",
        "                          'v501b_Never married', 'v228', 'm15', 'ANC.facility', 'v401', 'b0', 'b4', 'b20']]\n",
        "y_train = outcome3_train['child.status']\n",
        "y2_train = outcome3_train['b5']\n",
        "\n",
        "\n",
        "x_test = outcome3_test[['v000_AO7', 'v000_ET7', 'v000_ML7', 'v000_NG7', 'v000_ZA7', 'v000_ZM7', 'v000_ZW7',\n",
        "                          'v013', 'v025', 'v106', 'v190', 'v501b_Formerly married', 'v501b_Married', \n",
        "                          'v501b_Never married', 'v228', 'm15', 'ANC.facility', 'v401', 'b0', 'b4', 'b20']]\n",
        "y_test = outcome3_test['child.status']\n",
        "y2_test = outcome3_test['b5']\n",
        "\n",
        "print(outcome3_train.shape, outcome3_test.shape)\n",
        "print(x_train.shape, x_test.shape)"
      ],
      "metadata": {
        "colab": {
          "base_uri": "https://localhost:8080/"
        },
        "id": "P33x_e4PgG4i",
        "outputId": "c291bb70-580e-47f5-9069-81ffb3b3636c"
      },
      "execution_count": 3,
      "outputs": [
        {
          "output_type": "stream",
          "name": "stdout",
          "text": [
            "(66204, 28) (22069, 28)\n",
            "(66204, 21) (22069, 21)\n"
          ]
        }
      ]
    },
    {
      "cell_type": "code",
      "source": [
        "# roc curve and auc\n",
        "from sklearn.linear_model import LogisticRegression\n",
        "from sklearn.model_selection import train_test_split\n",
        "from sklearn.metrics import roc_curve\n",
        "from sklearn.metrics import roc_auc_score\n",
        "from matplotlib import pyplot\n",
        "\n",
        "# fit a model\n",
        "model = LogisticRegression(solver='lbfgs')\n",
        "model.fit(x_train, y2_train)\n",
        "# predict probabilities\n",
        "lr_probs = model.predict_proba(x_test)\n",
        "# keep probabilities for the positive outcome only\n",
        "lr_probs = lr_probs[:, 1]\n",
        "# calculate scores\n",
        "lr_auc = roc_auc_score(y2_test, lr_probs)\n",
        "# summarize scores\n",
        "print('Logistic: ROC AUC=%.3f' % (lr_auc))\n",
        "# calculate roc curves\n",
        "lr_fpr, lr_tpr, _ = roc_curve(y2_test, lr_probs)\n",
        "# plot the roc curve for the model\n",
        "pyplot.plot(lr_fpr, lr_tpr, marker='.', label='Logistic')\n",
        "# axis labels\n",
        "pyplot.xlabel('False Positive Rate')\n",
        "pyplot.ylabel('True Positive Rate')\n",
        "# show the legend\n",
        "pyplot.legend()\n",
        "# show the plot\n",
        "pyplot.show()"
      ],
      "metadata": {
        "colab": {
          "base_uri": "https://localhost:8080/",
          "height": 296
        },
        "id": "4YDfm5DQfkO5",
        "outputId": "726ebd2d-e9c2-4ce5-aaa0-90cdf2d7384c"
      },
      "execution_count": 5,
      "outputs": [
        {
          "output_type": "stream",
          "name": "stdout",
          "text": [
            "Logistic: ROC AUC=0.697\n"
          ]
        },
        {
          "output_type": "display_data",
          "data": {
            "text/plain": [
              "<Figure size 432x288 with 1 Axes>"
            ],
            "image/png": "[encoded data removed]"
          },
          "metadata": {
            "needs_background": "light"
          }
        }
      ]
    },
    {
      "cell_type": "code",
      "source": [
        "from sklearn.feature_extraction.text import TfidfVectorizer\n",
        "from sklearn.naive_bayes import MultinomialNB\n",
        "from sklearn.pipeline import make_pipeline\n",
        "from sklearn.model_selection import cross_val_score\n",
        "from sklearn.model_selection import cross_val_predict\n",
        "\n",
        "\n",
        "model = MultinomialNB()\n",
        "model.fit(x_train, y_train)\n",
        "labels = model.predict(x_test)\n",
        "nb_train_accuracy = []\n",
        "nb_test_accuracy = []\n",
        "nb_train_accuracy.append(model.score(x_train, y_train))\n",
        "nb_test_accuracy.append(model.score(x_test, y_test))\n",
        "print(nb_train_accuracy, nb_test_accuracy)\n",
        "\n",
        "\n",
        "model_2 = MultinomialNB()\n",
        "model_2.fit(x_train, y2_train)\n",
        "labels_2 = model_2.predict(x_test)\n",
        "nb2_train_accuracy = []\n",
        "nb2_test_accuracy = []\n",
        "nb2_train_accuracy.append(model_2.score(x_train, y2_train))\n",
        "nb2_test_accuracy.append(model_2.score(x_test, y2_test))\n",
        "print(nb2_train_accuracy, nb2_test_accuracy)\n",
        "\n",
        "cv_train = cross_val_score(model, x_train, y_train, cv = 10, scoring = \"accuracy\")\n",
        "cv_test = cross_val_score(model, x_test, y_test, cv = 10, scoring = \"accuracy\")\n",
        "\n",
        "cv_train2 = cross_val_score(model_2, x_train, y2_train, cv = 10, scoring = \"accuracy\")\n",
        "cv_test2 = cross_val_score(model_2, x_test, y2_test, cv = 10, scoring = \"accuracy\")\n",
        "\n",
        "print(\"Percent accuracy within each fold (First): \\n\")\n",
        "print(cv_train, \"\\n\", cv_test)\n",
        "print(\"\\nMean & SD accuracy: \\n\")\n",
        "print(cv_train.mean(), cv_test.mean())\n",
        "print(cv_train.std(), cv_test.std())\n",
        "\n",
        "print(\"\\nPercent accuracy within each fold (Second): \\n\")\n",
        "print(cv_train2, \"\\n\", cv_test2)\n",
        "print(\"\\nMean & SD accuracy: \\n\")\n",
        "print(cv_train2.mean(), cv_test2.mean())\n",
        "print(cv_train2.std(), cv_test2.std())\n",
        "\n",
        "cv_labels = cross_val_predict(model, x_test, y_test, cv=10)\n",
        "cv_labels2 = cross_val_predict(model_2, x_test, y2_test, cv=10)\n",
        "\n",
        "\n",
        "accuracy = pd.DataFrame()\n",
        "accuracy = accuracy.append([[\"Naive Baye's\", (cv_train.mean()), (cv_test.mean())]])\n",
        "\n",
        "accuracy2 = pd.DataFrame()\n",
        "accuracy2 = accuracy2.append([[\"Naive Baye's\", (cv_train2.mean()), (cv_test2.mean())]])"
      ],
      "metadata": {
        "colab": {
          "base_uri": "https://localhost:8080/"
        },
        "id": "7VPgfRTAg5_y",
        "outputId": "ea1bae20-58d0-48b4-a1a9-a943af4258a2"
      },
      "execution_count": null,
      "outputs": [
        {
          "output_type": "stream",
          "name": "stdout",
          "text": [
            "[0.6153102531569089] [0.6138474783633151]\n",
            "[0.9303818500392725] [0.9305360460374281]\n",
            "Percent accuracy within each fold (First): \n",
            "\n",
            "[0.6139556  0.61531491 0.61893974 0.61591905 0.61268882 0.61374622\n",
            " 0.61978852 0.61314199 0.62220544 0.60800604] \n",
            " [0.60806525 0.61848663 0.6148618  0.61939284 0.61350249 0.60761214\n",
            " 0.6139556  0.61622111 0.61758043 0.60924751]\n",
            "\n",
            "Mean & SD accuracy: \n",
            "\n",
            "0.6153706324881328 0.6138925803129498\n",
            "0.003877006899867335 0.0040798825282222975\n",
            "\n",
            "Percent accuracy within each fold (Second): \n",
            "\n",
            "[0.93007099 0.93037306 0.93037306 0.93037306 0.9305136  0.9305136\n",
            " 0.93036254 0.93036254 0.93036254 0.93036254] \n",
            " [0.93067512 0.93022202 0.93067512 0.93067512 0.93067512 0.93022202\n",
            " 0.93022202 0.93022202 0.93022202 0.93019039]\n",
            "\n",
            "Mean & SD accuracy: \n",
            "\n",
            "0.9303667493934661 0.9304000992473875\n",
            "0.00011436496187509005 0.00022474283306204824\n"
          ]
        }
      ]
    },
    {
      "cell_type": "code",
      "source": [
        "from sklearn.feature_extraction.text import TfidfVectorizer\n",
        "from sklearn.naive_bayes import MultinomialNB\n",
        "from sklearn.pipeline import make_pipeline\n",
        "from sklearn.metrics import roc_curve\n",
        "from sklearn.metrics import roc_auc_score\n",
        "from matplotlib import pyplot\n",
        "\n",
        "\n",
        "# fit a model\n",
        "model_2 = MultinomialNB()\n",
        "model_2.fit(x_train, y2_train)\n",
        "# predict probabilities\n",
        "nb_probs = model_2.predict_proba(x_test)\n",
        "# keep probabilities for the positive outcome only\n",
        "nb_probs = nb_probs[:, 1]\n",
        "# calculate scores\n",
        "nb_auc = roc_auc_score(y2_test, nb_probs)\n",
        "# summarize scores\n",
        "print('Naive Bayes: ROC AUC=%.3f' % (nb_auc))\n",
        "# calculate roc curves\n",
        "nb_fpr, nb_tpr, _ = roc_curve(y2_test, nb_probs)\n",
        "# plot the roc curve for the model\n",
        "pyplot.plot(lr_fpr, lr_tpr, marker='.', label='Naive Bayes')\n",
        "# axis labels\n",
        "pyplot.xlabel('False Positive Rate')\n",
        "pyplot.ylabel('True Positive Rate')\n",
        "# show the legend\n",
        "pyplot.legend()\n",
        "# show the plot\n",
        "pyplot.show()"
      ],
      "metadata": {
        "colab": {
          "base_uri": "https://localhost:8080/",
          "height": 296
        },
        "id": "AYJlwPfOhPLx",
        "outputId": "d3ff15d3-698e-43f4-a671-5de0b157a172"
      },
      "execution_count": 6,
      "outputs": [
        {
          "output_type": "stream",
          "name": "stdout",
          "text": [
            "Naive Bayes: ROC AUC=0.664\n"
          ]
        },
        {
          "output_type": "display_data",
          "data": {
            "text/plain": [
              "<Figure size 432x288 with 1 Axes>"
            ],
            "image/png": "[encoded data removed]"
          },
          "metadata": {
            "needs_background": "light"
          }
        }
      ]
    },
    {
      "cell_type": "code",
      "source": [
        "from sklearn.tree import DecisionTreeClassifier\n",
        "\n",
        "tree = DecisionTreeClassifier(random_state=0)\n",
        "tree.fit(x_train, y_train)\n",
        "labels_tree = tree.predict(x_test)\n",
        "\n",
        "tree_2 = DecisionTreeClassifier(random_state=0)\n",
        "tree_2.fit(x_train, y2_train)\n",
        "labels_tree2 = tree_2.predict(x_test)\n",
        "\n",
        "print(\"Accuracy on training set: {:.3f}\".format(tree.score(x_train, y_train)))\n",
        "print(\"Accuracy on test set: {:.3f}\".format(tree.score(x_test, y_test)))\n",
        "\n",
        "print(\"Accuracy on training set: {:.3f}\".format(tree_2.score(x_train, y2_train)))\n",
        "print(\"Accuracy on test set: {:.3f}\".format(tree_2.score(x_test, y2_test)))\n",
        "\n",
        "cv_train = cross_val_score(tree, x_train, y_train, cv = 10, scoring = \"accuracy\")\n",
        "cv_test = cross_val_score(tree, x_test, y_test, cv = 10, scoring = \"accuracy\")\n",
        "\n",
        "cv_train2 = cross_val_score(tree_2, x_train, y2_train, cv = 10, scoring = \"accuracy\")\n",
        "cv_test2 = cross_val_score(tree_2, x_test, y2_test, cv = 10, scoring = \"accuracy\")\n",
        "\n",
        "print(\"Percent accuracy within each fold (First): \\n\")\n",
        "print(cv_train, \"\\n\", cv_test)\n",
        "print(\"\\nMean & SD accuracy: \\n\")\n",
        "print(cv_train.mean(), cv_test.mean())\n",
        "print(cv_train.std(), cv_test.std())\n",
        "\n",
        "print(\"\\nPercent accuracy within each fold (Second): \\n\")\n",
        "print(cv_train2, \"\\n\", cv_test2)\n",
        "print(\"\\nMean & SD accuracy: \\n\")\n",
        "print(cv_train2.mean(), cv_test2.mean())\n",
        "print(cv_train2.std(), cv_test2.std())\n",
        "\n",
        "cv_labels = cross_val_predict(tree, x_test, y_test, cv=10)\n",
        "cv_labels2 = cross_val_predict(tree_2, x_test, y2_test, cv=10)\n",
        "\n",
        "accuracy = pd.DataFrame()\n",
        "accuracy = accuracy.append([[\"Decision Tree\", (cv_train.mean()), (cv_test.mean())]])\n",
        "\n",
        "accuracy2 = pd.DataFrame()\n",
        "accuracy2 = accuracy2.append([[\"Decision Tree\", (cv_train2.mean()), (cv_test2.mean())]])"
      ],
      "metadata": {
        "colab": {
          "base_uri": "https://localhost:8080/"
        },
        "id": "27SoaPe9ikba",
        "outputId": "700c68ce-5cd2-4c4a-8abf-107b78657f9b"
      },
      "execution_count": null,
      "outputs": [
        {
          "output_type": "stream",
          "name": "stdout",
          "text": [
            "Accuracy on training set: 0.732\n",
            "Accuracy on test set: 0.594\n",
            "Accuracy on training set: 0.946\n",
            "Accuracy on test set: 0.910\n",
            "Percent accuracy within each fold (First): \n",
            "\n",
            "[0.58374868 0.59809696 0.59265972 0.59130041 0.58549849 0.59199396\n",
            " 0.59138973 0.58277946 0.59305136 0.58942598] \n",
            " [0.57272315 0.56728591 0.56728591 0.57045763 0.58903489 0.57544178\n",
            " 0.57317626 0.56411418 0.57091074 0.57751587]\n",
            "\n",
            "Mean & SD accuracy: \n",
            "\n",
            "0.5899944742330889 0.5727946314393213\n",
            "0.004487227035341073 0.006620022696651647\n",
            "\n",
            "Percent accuracy within each fold (Second): \n",
            "\n",
            "[0.90454614 0.9078689  0.90817097 0.90107235 0.90996979 0.90634441\n",
            " 0.90574018 0.90876133 0.91012085 0.90589124] \n",
            " [0.89352062 0.88808337 0.89623924 0.89759855 0.88808337 0.89080199\n",
            " 0.8917082  0.89397372 0.89487993 0.89573889]\n",
            "\n",
            "Mean & SD accuracy: \n",
            "\n",
            "0.9068486154326318 0.893062788350427\n",
            "0.002606979056600729 0.003141674741219054\n"
          ]
        }
      ]
    },
    {
      "cell_type": "code",
      "source": [
        "from sklearn.feature_extraction.text import TfidfVectorizer\n",
        "from sklearn.metrics import roc_curve\n",
        "from sklearn.metrics import roc_auc_score\n",
        "from matplotlib import pyplot\n",
        "from sklearn.tree import DecisionTreeClassifier\n",
        "\n",
        "# fit a model\n",
        "model_2 = DecisionTreeClassifier(random_state=0)\n",
        "model_2.fit(x_train, y2_train)\n",
        "# predict probabilities\n",
        "dtc_probs = model_2.predict_proba(x_test)\n",
        "# keep probabilities for the positive outcome only\n",
        "dtc_probs = dtc_probs[:, 1]\n",
        "# calculate scores\n",
        "dtc_auc = roc_auc_score(y2_test, dtc_probs)\n",
        "# summarize scores\n",
        "print('Decision Tree: ROC AUC=%.3f' % (dtc_auc))\n",
        "# calculate roc curves\n",
        "dtc_fpr, dtc_tpr, _ = roc_curve(y2_test, dtc_probs)\n",
        "# plot the roc curve for the model\n",
        "pyplot.plot(dtc_fpr, dtc_tpr, marker='.', label='Decision Tree')\n",
        "# axis labels\n",
        "pyplot.xlabel('False Positive Rate')\n",
        "pyplot.ylabel('True Positive Rate')\n",
        "# show the legend\n",
        "pyplot.legend()\n",
        "# show the plot\n",
        "pyplot.show()"
      ],
      "metadata": {
        "colab": {
          "base_uri": "https://localhost:8080/",
          "height": 296
        },
        "id": "KNoPauzUhdGK",
        "outputId": "616d7cf5-dca3-4f57-f253-eda9bb632dcf"
      },
      "execution_count": 7,
      "outputs": [
        {
          "output_type": "stream",
          "name": "stdout",
          "text": [
            "Decision Tree: ROC AUC=0.600\n"
          ]
        },
        {
          "output_type": "display_data",
          "data": {
            "text/plain": [
              "<Figure size 432x288 with 1 Axes>"
            ],
            "image/png": "[encoded data removed]"
          },
          "metadata": {
            "needs_background": "light"
          }
        }
      ]
    },
    {
      "cell_type": "code",
      "source": [
        "from sklearn.tree import DecisionTreeClassifier\n",
        "\n",
        "clf_gini = DecisionTreeClassifier(criterion = \"gini\", random_state = 100, max_depth = 10, min_samples_leaf=1)\n",
        "clf_gini.fit(x_train, y_train)\n",
        "labels_gini = clf_gini.predict(x_test)\n",
        "\n",
        "clf_gini2 = DecisionTreeClassifier(criterion = \"gini\", random_state = 100, max_depth = 10, min_samples_leaf=1)\n",
        "clf_gini2.fit(x_train, y2_train)\n",
        "labels_gini2 = clf_gini2.predict(x_test)\n",
        "\n",
        "print(\"Accuracy on training set: {:.3f}\".format(clf_gini.score(x_train, y_train)))\n",
        "print(\"Accuracy on test set: {:.3f}\".format(clf_gini.score(x_test, y_test)))\n",
        "\n",
        "print(\"Accuracy on training set (Child loss): {:.3f}\".format(clf_gini2.score(x_train, y2_train)))\n",
        "print(\"Accuracy on test set (Child loss): {:.3f}\".format(clf_gini2.score(x_test, y2_test)))\n",
        "\n",
        "cv_train = cross_val_score(clf_gini, x_train, y_train, cv = 10, scoring = \"accuracy\")\n",
        "cv_test = cross_val_score(clf_gini, x_test, y_test, cv = 10, scoring = \"accuracy\")\n",
        "\n",
        "cv_train2 = cross_val_score(clf_gini2, x_train, y2_train, cv = 10, scoring = \"accuracy\")\n",
        "cv_test2 = cross_val_score(clf_gini2, x_test, y2_test, cv = 10, scoring = \"accuracy\")\n",
        "\n",
        "print(\"Percent accuracy within each fold (First): \\n\")\n",
        "print(cv_train, \"\\n\", cv_test)\n",
        "print(\"\\nMean & SD accuracy: \\n\")\n",
        "print(cv_train.mean(), cv_test.mean())\n",
        "print(cv_train.std(), cv_test.std())\n",
        "\n",
        "print(\"\\nPercent accuracy within each fold (Second): \\n\")\n",
        "print(cv_train2, \"\\n\", cv_test2)\n",
        "print(\"\\nMean & SD accuracy: \\n\")\n",
        "print(cv_train2.mean(), cv_test2.mean())\n",
        "print(cv_train2.std(), cv_test2.std())\n",
        "\n",
        "cv_labels = cross_val_predict(clf_gini, x_test, y_test, cv=10)\n",
        "cv_labels2 = cross_val_predict(clf_gini2, x_test, y2_test, cv=10)\n",
        "\n",
        "accuracy = accuracy.append([[\"Decision Tree (Gini)\", (cv_train.mean()), (cv_test.mean())]])\n",
        "accuracy2 = accuracy2.append([[\"Decision Tree (Gini)\", (cv_train2.mean()), (cv_test2.mean())]])"
      ],
      "metadata": {
        "colab": {
          "base_uri": "https://localhost:8080/"
        },
        "id": "w7bMLfYflB4h",
        "outputId": "7be846f4-a552-4499-e86e-1d51de7f737e"
      },
      "execution_count": null,
      "outputs": [
        {
          "output_type": "stream",
          "name": "stdout",
          "text": [
            "Accuracy on training set: 0.652\n",
            "Accuracy on test set: 0.638\n",
            "Accuracy on training set (Child loss): 0.934\n",
            "Accuracy on test set (Child loss): 0.928\n",
            "Percent accuracy within each fold (First): \n",
            "\n",
            "[0.63540251 0.63283492 0.6428032  0.63872527 0.62190332 0.64169184\n",
            " 0.63685801 0.63111782 0.63867069 0.63670695] \n",
            " [0.63343906 0.62528319 0.63570458 0.62528319 0.63389216 0.62573629\n",
            " 0.63207975 0.63253285 0.63117354 0.64505893]\n",
            "\n",
            "Mean & SD accuracy: \n",
            "\n",
            "0.6356714536873657 0.6320183533724599\n",
            "0.005712473347368363 0.00565990952147474\n",
            "\n",
            "Percent accuracy within each fold (Second): \n",
            "\n",
            "[0.92674823 0.92916478 0.92780547 0.92674823 0.92719033 0.92734139\n",
            " 0.93006042 0.92809668 0.92809668 0.92703927] \n",
            " [0.92297236 0.92115995 0.92614409 0.92523788 0.92433167 0.92387857\n",
            " 0.92387857 0.92387857 0.92569098 0.92293744]\n",
            "\n",
            "Mean & SD accuracy: \n",
            "\n",
            "0.9278291470287481 0.9240110075869206\n",
            "0.0010253234649642681 0.0013925835235496975\n"
          ]
        }
      ]
    },
    {
      "cell_type": "code",
      "source": [
        "from sklearn.feature_extraction.text import TfidfVectorizer\n",
        "from sklearn.metrics import roc_curve\n",
        "from sklearn.metrics import roc_auc_score\n",
        "from matplotlib import pyplot\n",
        "from sklearn.tree import DecisionTreeClassifier\n",
        "\n",
        "# fit a model\n",
        "model_2 = DecisionTreeClassifier(criterion = \"gini\", random_state = 100, max_depth = 10, min_samples_leaf=1)\n",
        "model_2.fit(x_train, y2_train)\n",
        "# predict probabilities\n",
        "dtc_probs = model_2.predict_proba(x_test)\n",
        "# keep probabilities for the positive outcome only\n",
        "dtc_probs = dtc_probs[:, 1]\n",
        "# calculate scores\n",
        "dtc_auc = roc_auc_score(y2_test, dtc_probs)\n",
        "# summarize scores\n",
        "print('Decision Tree: ROC AUC=%.3f' % (dtc_auc))\n",
        "# calculate roc curves\n",
        "dtc_fpr, dtc_tpr, _ = roc_curve(y2_test, dtc_probs)\n",
        "# plot the roc curve for the model\n",
        "pyplot.plot(dtc_fpr, dtc_tpr, marker='.', label='Decision Tree')\n",
        "# axis labels\n",
        "pyplot.xlabel('False Positive Rate')\n",
        "pyplot.ylabel('True Positive Rate')\n",
        "# show the legend\n",
        "pyplot.legend()\n",
        "# show the plot\n",
        "pyplot.show()"
      ],
      "metadata": {
        "colab": {
          "base_uri": "https://localhost:8080/",
          "height": 296
        },
        "id": "ckXzvB2fhv5L",
        "outputId": "a15e2fbb-afce-433b-dcab-7d57daf56261"
      },
      "execution_count": 8,
      "outputs": [
        {
          "output_type": "stream",
          "name": "stdout",
          "text": [
            "Decision Tree: ROC AUC=0.671\n"
          ]
        },
        {
          "output_type": "display_data",
          "data": {
            "text/plain": [
              "<Figure size 432x288 with 1 Axes>"
            ],
            "image/png": "[encoded data removed]"
          },
          "metadata": {
            "needs_background": "light"
          }
        }
      ]
    },
    {
      "cell_type": "code",
      "source": [
        "from sklearn.ensemble import RandomForestClassifier\n",
        "\n",
        "forest = RandomForestClassifier(n_estimators=100, random_state=0)\n",
        "forest.fit(x_train, y_train)\n",
        "labels_rf = forest.predict(x_test)\n",
        "\n",
        "forest_2 = RandomForestClassifier(n_estimators=100, random_state=0)\n",
        "forest_2.fit(x_train, y2_train)\n",
        "labels_rf2 = forest.predict(x_test)\n",
        "\n",
        "print(\"Accuracy on training set: {:.3f}\".format(forest.score(x_train, y_train)))\n",
        "print(\"Accuracy on test set: {:.3f}\".format(forest.score(x_test, y_test)))\n",
        "\n",
        "print(\"Accuracy on training set (Child loss): {:.3f}\".format(forest_2.score(x_train, y2_train)))\n",
        "print(\"Accuracy on test set (Child loss): {:.3f}\".format(forest_2.score(x_test, y2_test)))\n",
        "\n",
        "cv_train = cross_val_score(forest, x_train, y_train, cv = 10, scoring = \"accuracy\")\n",
        "cv_test = cross_val_score(forest, x_test, y_test, cv = 10, scoring = \"accuracy\")\n",
        "\n",
        "cv_train2 = cross_val_score(forest_2, x_train, y2_train, cv = 10, scoring = \"accuracy\")\n",
        "cv_test2 = cross_val_score(forest_2, x_test, y2_test, cv = 10, scoring = \"accuracy\")\n",
        "\n",
        "print(\"Percent accuracy within each fold (First): \\n\")\n",
        "print(cv_train, \"\\n\", cv_test)\n",
        "print(\"\\nMean & SD accuracy: \\n\")\n",
        "print(cv_train.mean(), cv_test.mean())\n",
        "print(cv_train.std(), cv_test.std())\n",
        "\n",
        "print(\"\\nPercent accuracy within each fold (Second): \\n\")\n",
        "print(cv_train2, \"\\n\", cv_test2)\n",
        "print(\"\\nMean & SD accuracy: \\n\")\n",
        "print(cv_train2.mean(), cv_test2.mean())\n",
        "print(cv_train2.std(), cv_test2.std())\n",
        "\n",
        "cv_labels = cross_val_predict(forest, x_test, y_test, cv=10)\n",
        "cv_labels2 = cross_val_predict(forest_2, x_test, y2_test, cv=10)\n",
        "\n",
        "accuracy = accuracy.append([[\"Random Forest\", (cv_train.mean()), (cv_test.mean())]])\n",
        "accuracy2 = accuracy2.append([[\"Random Forest\", (cv_train2.mean()), (cv_test2.mean())]])"
      ],
      "metadata": {
        "colab": {
          "base_uri": "https://localhost:8080/"
        },
        "id": "-OmtlxlXRvYS",
        "outputId": "61d60636-93d3-4058-caad-4194931e043d"
      },
      "execution_count": null,
      "outputs": [
        {
          "output_type": "stream",
          "name": "stdout",
          "text": [
            "Accuracy on training set: 0.731\n",
            "Accuracy on test set: 0.611\n",
            "Accuracy on training set (Child loss): 0.946\n",
            "Accuracy on test set (Child loss): 0.926\n",
            "Percent accuracy within each fold (First): \n",
            "\n",
            "[0.59960731 0.60489352 0.59703972 0.61274732 0.61102719 0.60996979\n",
            " 0.60332326 0.60725076 0.61132931 0.60513595] \n",
            " [0.6021749  0.59673765 0.59673765 0.59401903 0.59220662 0.59900317\n",
            " 0.59356593 0.60308111 0.59900317 0.60426111]\n",
            "\n",
            "Mean & SD accuracy: \n",
            "\n",
            "0.6062324125699106 0.5980790331266911\n",
            "0.004962587708325647 0.003958011800960338\n",
            "\n",
            "Percent accuracy within each fold (Second): \n",
            "\n",
            "[0.92267029 0.92387857 0.92372753 0.92553995 0.92628399 0.92401813\n",
            " 0.92779456 0.92386707 0.92507553 0.92296073] \n",
            " [0.92206615 0.91753512 0.92251926 0.92387857 0.92025374 0.92115995\n",
            " 0.92161305 0.92478478 0.92206615 0.91885766]\n",
            "\n",
            "Mean & SD accuracy: \n",
            "\n",
            "0.9245816341942306 0.9214734416701823\n",
            "0.001507173557686611 0.002061651728984224\n"
          ]
        }
      ]
    },
    {
      "cell_type": "code",
      "source": [
        "from sklearn.feature_extraction.text import TfidfVectorizer\n",
        "from sklearn.metrics import roc_curve\n",
        "from sklearn.metrics import roc_auc_score\n",
        "from matplotlib import pyplot\n",
        "from sklearn.ensemble import RandomForestClassifier\n",
        "\n",
        "# fit a model\n",
        "model_2 = RandomForestClassifier(n_estimators=100, random_state=0)\n",
        "model_2.fit(x_train, y2_train)\n",
        "# predict probabilities\n",
        "dtc_probs = model_2.predict_proba(x_test)\n",
        "# keep probabilities for the positive outcome only\n",
        "dtc_probs = dtc_probs[:, 1]\n",
        "# calculate scores\n",
        "dtc_auc = roc_auc_score(y2_test, dtc_probs)\n",
        "# summarize scores\n",
        "print('Random Forest: ROC AUC=%.3f' % (dtc_auc))\n",
        "# calculate roc curves\n",
        "dtc_fpr, dtc_tpr, _ = roc_curve(y2_test, dtc_probs)\n",
        "# plot the roc curve for the model\n",
        "pyplot.plot(dtc_fpr, dtc_tpr, marker='.', label='Random Forest')\n",
        "# axis labels\n",
        "pyplot.xlabel('False Positive Rate')\n",
        "pyplot.ylabel('True Positive Rate')\n",
        "# show the legend\n",
        "pyplot.legend()\n",
        "# show the plot\n",
        "pyplot.show()"
      ],
      "metadata": {
        "colab": {
          "base_uri": "https://localhost:8080/",
          "height": 296
        },
        "id": "f-zyOCBYiG5t",
        "outputId": "22a46de9-bb31-4e38-a645-9945edd410e1"
      },
      "execution_count": 9,
      "outputs": [
        {
          "output_type": "stream",
          "name": "stdout",
          "text": [
            "Random Forest: ROC AUC=0.650\n"
          ]
        },
        {
          "output_type": "display_data",
          "data": {
            "text/plain": [
              "<Figure size 432x288 with 1 Axes>"
            ],
            "image/png": "[encoded data removed]"
          },
          "metadata": {
            "needs_background": "light"
          }
        }
      ]
    },
    {
      "cell_type": "code",
      "source": [
        "from sklearn.ensemble import GradientBoostingClassifier\n",
        "\n",
        "gbrt = GradientBoostingClassifier(random_state=0, max_depth = 10)\n",
        "gbrt.fit(x_train, y_train)\n",
        "labels_gbrt = gbrt.predict(x_test)\n",
        "\n",
        "gbrt_2 = GradientBoostingClassifier(random_state=0, max_depth = 10)\n",
        "gbrt_2.fit(x_train, y2_train)\n",
        "labels_gbrt2 = gbrt_2.predict(x_test)\n",
        "\n",
        "print(\"Accuracy on training set: {:.3f}\".format(gbrt.score(x_train, y_train)))\n",
        "print(\"Accuracy on test set: {:.3f}\".format(gbrt.score(x_test, y_test)))\n",
        "\n",
        "print(\"Accuracy on training set (Child loss): {:.3f}\".format(gbrt_2.score(x_train, y2_train)))\n",
        "print(\"Accuracy on test set (Child loss): {:.3f}\".format(gbrt_2.score(x_test, y2_test)))\n",
        "\n",
        "cv_train = cross_val_score(gbrt, x_train, y_train, cv = 10, scoring = \"accuracy\")\n",
        "cv_test = cross_val_score(gbrt, x_test, y_test, cv = 10, scoring = \"accuracy\")\n",
        "\n",
        "cv_train2 = cross_val_score(gbrt_2, x_train, y2_train, cv = 10, scoring = \"accuracy\")\n",
        "cv_test2 = cross_val_score(gbrt_2, x_test, y2_test, cv = 10, scoring = \"accuracy\")\n",
        "\n",
        "print(\"Percent accuracy within each fold (First): \\n\")\n",
        "print(cv_train, \"\\n\", cv_test)\n",
        "print(\"\\nMean & SD accuracy: \\n\")\n",
        "print(cv_train.mean(), cv_test.mean())\n",
        "print(cv_train.std(), cv_test.std())\n",
        "\n",
        "print(\"\\nPercent accuracy within each fold (Second): \\n\")\n",
        "print(cv_train2, \"\\n\", cv_test2)\n",
        "print(\"\\nMean & SD accuracy: \\n\")\n",
        "print(cv_train2.mean(), cv_test2.mean())\n",
        "print(cv_train2.std(), cv_test2.std())\n",
        "\n",
        "cv_labels = cross_val_predict(gbrt, x_test, y_test, cv=10)\n",
        "cv_labels2 = cross_val_predict(gbrt_2, x_test, y2_test, cv=10)\n",
        "\n",
        "accuracy = accuracy.append([[\"Gradient Boost\", (cv_train.mean()), (cv_test.mean())]])\n",
        "accuracy2 = accuracy2.append([[\"Gradient Boost\", (cv_train2.mean()), (cv_test2.mean())]])"
      ],
      "metadata": {
        "colab": {
          "base_uri": "https://localhost:8080/"
        },
        "id": "5VQyAkgjSk2G",
        "outputId": "c882bea9-02a8-4efb-e93c-3cf86fd1a383"
      },
      "execution_count": null,
      "outputs": [
        {
          "output_type": "stream",
          "name": "stdout",
          "text": [
            "Accuracy on training set: 0.714\n",
            "Accuracy on test set: 0.627\n",
            "Accuracy on training set (Child loss): 0.943\n",
            "Accuracy on test set (Child loss): 0.927\n",
            "Percent accuracy within each fold (First): \n",
            "\n",
            "[0.61214318 0.6178825  0.61350249 0.63026733 0.61993958 0.62205438\n",
            " 0.62084592 0.61661631 0.62296073 0.61767372] \n",
            " [0.60579973 0.59447213 0.60398731 0.60444042 0.59945628 0.60489352\n",
            " 0.60172179 0.61123697 0.59990938 0.62692656]\n",
            "\n",
            "Mean & SD accuracy: \n",
            "\n",
            "0.6193886133610397 0.6052844099032132\n",
            "0.004905891685511445 0.0083611280076904\n",
            "\n",
            "Percent accuracy within each fold (Second): \n",
            "\n",
            "[0.92448271 0.92418064 0.92614409 0.9279565  0.92356495 0.92598187\n",
            " 0.92734139 0.92250755 0.92734139 0.92643505] \n",
            " [0.91753512 0.91980063 0.92297236 0.92433167 0.91753512 0.91844132\n",
            " 0.91889443 0.92569098 0.92025374 0.92112421]\n",
            "\n",
            "Mean & SD accuracy: \n",
            "\n",
            "0.925593613837871 0.9206579575988542\n",
            "0.0017240737359878195 0.0026986582790829534\n"
          ]
        }
      ]
    },
    {
      "cell_type": "code",
      "source": [
        "from sklearn.feature_extraction.text import TfidfVectorizer\n",
        "from sklearn.metrics import roc_curve\n",
        "from sklearn.metrics import roc_auc_score\n",
        "from matplotlib import pyplot\n",
        "from sklearn.ensemble import GradientBoostingClassifier\n",
        "\n",
        "# fit a model\n",
        "model_2 = GradientBoostingClassifier(random_state=0, max_depth = 10)\n",
        "model_2.fit(x_train, y2_train)\n",
        "# predict probabilities\n",
        "dtc_probs = model_2.predict_proba(x_test)\n",
        "# keep probabilities for the positive outcome only\n",
        "dtc_probs = dtc_probs[:, 1]\n",
        "# calculate scores\n",
        "dtc_auc = roc_auc_score(y2_test, dtc_probs)\n",
        "# summarize scores\n",
        "print('Decision Tree: ROC AUC=%.3f' % (dtc_auc))\n",
        "# calculate roc curves\n",
        "dtc_fpr, dtc_tpr, _ = roc_curve(y2_test, dtc_probs)\n",
        "# plot the roc curve for the model\n",
        "pyplot.plot(dtc_fpr, dtc_tpr, marker='.', label='Gradient Boosting')\n",
        "# axis labels\n",
        "pyplot.xlabel('False Positive Rate')\n",
        "pyplot.ylabel('True Positive Rate')\n",
        "# show the legend\n",
        "pyplot.legend()\n",
        "# show the plot\n",
        "pyplot.show()"
      ],
      "metadata": {
        "colab": {
          "base_uri": "https://localhost:8080/",
          "height": 296
        },
        "id": "YTapwMMViR4f",
        "outputId": "7f40b03e-f1f6-4623-cdd2-0b8e8d29ebaf"
      },
      "execution_count": 10,
      "outputs": [
        {
          "output_type": "stream",
          "name": "stdout",
          "text": [
            "Decision Tree: ROC AUC=0.661\n"
          ]
        },
        {
          "output_type": "display_data",
          "data": {
            "text/plain": [
              "<Figure size 432x288 with 1 Axes>"
            ],
            "image/png": "[encoded data removed]"
          },
          "metadata": {
            "needs_background": "light"
          }
        }
      ]
    },
    {
      "cell_type": "code",
      "source": [
        "from sklearn.svm import SVC\n",
        "\n",
        "svc = SVC()\n",
        "svc.fit(x_train, y_train)\n",
        "labels_svc = svc.predict(x_test)\n",
        "\n",
        "svc_2 = SVC()\n",
        "svc_2.fit(x_train, y2_train)\n",
        "labels_svc2 = svc_2.predict(x_test)\n",
        "\n",
        "print(\"Accuracy on training set: {:.3f}\".format(svc.score(x_train, y_train)))\n",
        "print(\"Accuracy on test set: {:.3f}\".format(svc.score(x_test, y_test)))\n",
        "\n",
        "print(\"Accuracy on training set (Child loss): {:.3f}\".format(svc_2.score(x_train, y2_train)))\n",
        "print(\"Accuracy on test set (Child loss): {:.3f}\".format(svc_2.score(x_test, y2_test)))\n",
        "\n",
        "cv_train = cross_val_score(svc, x_train, y_train, cv = 10, scoring = \"accuracy\")\n",
        "cv_test = cross_val_score(svc, x_test, y_test, cv = 10, scoring = \"accuracy\")\n",
        "\n",
        "cv_train2 = cross_val_score(svc_2, x_train, y2_train, cv = 10, scoring = \"accuracy\")\n",
        "cv_test2 = cross_val_score(svc_2, x_test, y2_test, cv = 10, scoring = \"accuracy\")\n",
        "\n",
        "print(\"Percent accuracy within each fold (First): \\n\")\n",
        "print(cv_train, \"\\n\", cv_test)\n",
        "print(\"\\nMean & SD accuracy: \\n\")\n",
        "print(cv_train.mean(), cv_test.mean())\n",
        "print(cv_train.std(), cv_test.std())\n",
        "\n",
        "print(\"\\nPercent accuracy within each fold (Second): \\n\")\n",
        "print(cv_train2, \"\\n\", cv_test2)\n",
        "print(\"\\nMean & SD accuracy: \\n\")\n",
        "print(cv_train2.mean(), cv_test2.mean())\n",
        "print(cv_train2.std(), cv_test2.std())\n",
        "\n",
        "cv_labels = cross_val_predict(svc, x_test, y_test, cv=10)\n",
        "cv_labels2 = cross_val_predict(svc_2, x_test, y2_test, cv=10)\n",
        "\n",
        "accuracy = accuracy.append([[\"SVM\", (cv_train.mean()), (cv_test.mean())]])\n",
        "accuracy2 = accuracy2.append([[\"SVM\", (cv_train2.mean()), (cv_test2.mean())]])"
      ],
      "metadata": {
        "colab": {
          "base_uri": "https://localhost:8080/"
        },
        "id": "rYZ4-CW2AgIZ",
        "outputId": "45a9e4d1-345a-43c6-f588-49fdd0cb40d1"
      },
      "execution_count": null,
      "outputs": [
        {
          "output_type": "stream",
          "name": "stdout",
          "text": [
            "Accuracy on training set: 0.637\n",
            "Accuracy on test set: 0.637\n",
            "Accuracy on training set (Child loss): 0.930\n",
            "Accuracy on test set (Child loss): 0.931\n",
            "Percent accuracy within each fold (First): \n",
            "\n",
            "[0.63223078 0.63661078 0.6305694  0.63479837 0.63277946 0.63564955\n",
            " 0.64093656 0.63731118 0.6397281  0.63006042] \n",
            " [0.63298595 0.64023561 0.63706389 0.64295424 0.6270956  0.61531491\n",
            " 0.63570458 0.64250113 0.63570458 0.62601995]\n",
            "\n",
            "Mean & SD accuracy: \n",
            "\n",
            "0.6350674590735055 0.6335580434954963\n",
            "0.0035011404750288073 0.008161425917476551\n",
            "\n",
            "Percent accuracy within each fold (Second): \n",
            "\n",
            "[0.93037306 0.93037306 0.93037306 0.93037306 0.9305136  0.9305136\n",
            " 0.93036254 0.93036254 0.93036254 0.93036254] \n",
            " [0.93067512 0.93067512 0.93067512 0.93067512 0.93067512 0.93067512\n",
            " 0.93022202 0.93022202 0.93022202 0.9306437 ]\n",
            "\n",
            "Mean & SD accuracy: \n",
            "\n",
            "0.9303969563108503 0.9305360509152244\n",
            "5.850880189369664e-05 0.00020578671352483997\n"
          ]
        }
      ]
    }
  ]
}