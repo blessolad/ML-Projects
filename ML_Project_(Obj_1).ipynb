{
  "nbformat": 4,
  "nbformat_minor": 0,
  "metadata": {
    "colab": {
      "provenance": []
    },
    "kernelspec": {
      "name": "python3",
      "display_name": "Python 3"
    },
    "language_info": {
      "name": "python"
    }
  },
  "cells": [
    {
      "cell_type": "code",
      "source": [
        "from google.colab import files\n",
        "\n",
        "uploaded = files.upload()"
      ],
      "metadata": {
        "colab": {
          "base_uri": "https://localhost:8080/",
          "height": 73
        },
        "id": "4YlmGHnQlO_Y",
        "outputId": "9b324008-be1c-475a-f92c-ab50f9a56d86"
      },
      "execution_count": null,
      "outputs": [
        {
          "output_type": "display_data",
          "data": {
            "text/plain": [
              "<IPython.core.display.HTML object>"
            ],
            "text/html": [
              "\n",
              "     <input type=\"file\" id=\"files-b3578318-ae13-48d9-961b-6ff3a9a9a493\" name=\"files[]\" multiple disabled\n",
              "        style=\"border:none\" />\n",
              "     <output id=\"result-b3578318-ae13-48d9-961b-6ff3a9a9a493\">\n",
              "      Upload widget is only available when the cell has been executed in the\n",
              "      current browser session. Please rerun this cell to enable.\n",
              "      </output>\n",
              "      <script>// Copyright 2017 Google LLC\n",
              "//\n",
              "// Licensed under the Apache License, Version 2.0 (the \"License\");\n",
              "// you may not use this file except in compliance with the License.\n",
              "// You may obtain a copy of the License at\n",
              "//\n",
              "//      http://www.apache.org/licenses/LICENSE-2.0\n",
              "//\n",
              "// Unless required by applicable law or agreed to in writing, software\n",
              "// distributed under the License is distributed on an \"AS IS\" BASIS,\n",
              "// WITHOUT WARRANTIES OR CONDITIONS OF ANY KIND, either express or implied.\n",
              "// See the License for the specific language governing permissions and\n",
              "// limitations under the License.\n",
              "\n",
              "/**\n",
              " * @fileoverview Helpers for google.colab Python module.\n",
              " */\n",
              "(function(scope) {\n",
              "function span(text, styleAttributes = {}) {\n",
              "  const element = document.createElement('span');\n",
              "  element.textContent = text;\n",
              "  for (const key of Object.keys(styleAttributes)) {\n",
              "    element.style[key] = styleAttributes[key];\n",
              "  }\n",
              "  return element;\n",
              "}\n",
              "\n",
              "// Max number of bytes which will be uploaded at a time.\n",
              "const MAX_PAYLOAD_SIZE = 100 * 1024;\n",
              "\n",
              "function _uploadFiles(inputId, outputId) {\n",
              "  const steps = uploadFilesStep(inputId, outputId);\n",
              "  const outputElement = document.getElementById(outputId);\n",
              "  // Cache steps on the outputElement to make it available for the next call\n",
              "  // to uploadFilesContinue from Python.\n",
              "  outputElement.steps = steps;\n",
              "\n",
              "  return _uploadFilesContinue(outputId);\n",
              "}\n",
              "\n",
              "// This is roughly an async generator (not supported in the browser yet),\n",
              "// where there are multiple asynchronous steps and the Python side is going\n",
              "// to poll for completion of each step.\n",
              "// This uses a Promise to block the python side on completion of each step,\n",
              "// then passes the result of the previous step as the input to the next step.\n",
              "function _uploadFilesContinue(outputId) {\n",
              "  const outputElement = document.getElementById(outputId);\n",
              "  const steps = outputElement.steps;\n",
              "\n",
              "  const next = steps.next(outputElement.lastPromiseValue);\n",
              "  return Promise.resolve(next.value.promise).then((value) => {\n",
              "    // Cache the last promise value to make it available to the next\n",
              "    // step of the generator.\n",
              "    outputElement.lastPromiseValue = value;\n",
              "    return next.value.response;\n",
              "  });\n",
              "}\n",
              "\n",
              "/**\n",
              " * Generator function which is called between each async step of the upload\n",
              " * process.\n",
              " * @param {string} inputId Element ID of the input file picker element.\n",
              " * @param {string} outputId Element ID of the output display.\n",
              " * @return {!Iterable<!Object>} Iterable of next steps.\n",
              " */\n",
              "function* uploadFilesStep(inputId, outputId) {\n",
              "  const inputElement = document.getElementById(inputId);\n",
              "  inputElement.disabled = false;\n",
              "\n",
              "  const outputElement = document.getElementById(outputId);\n",
              "  outputElement.innerHTML = '';\n",
              "\n",
              "  const pickedPromise = new Promise((resolve) => {\n",
              "    inputElement.addEventListener('change', (e) => {\n",
              "      resolve(e.target.files);\n",
              "    });\n",
              "  });\n",
              "\n",
              "  const cancel = document.createElement('button');\n",
              "  inputElement.parentElement.appendChild(cancel);\n",
              "  cancel.textContent = 'Cancel upload';\n",
              "  const cancelPromise = new Promise((resolve) => {\n",
              "    cancel.onclick = () => {\n",
              "      resolve(null);\n",
              "    };\n",
              "  });\n",
              "\n",
              "  // Wait for the user to pick the files.\n",
              "  const files = yield {\n",
              "    promise: Promise.race([pickedPromise, cancelPromise]),\n",
              "    response: {\n",
              "      action: 'starting',\n",
              "    }\n",
              "  };\n",
              "\n",
              "  cancel.remove();\n",
              "\n",
              "  // Disable the input element since further picks are not allowed.\n",
              "  inputElement.disabled = true;\n",
              "\n",
              "  if (!files) {\n",
              "    return {\n",
              "      response: {\n",
              "        action: 'complete',\n",
              "      }\n",
              "    };\n",
              "  }\n",
              "\n",
              "  for (const file of files) {\n",
              "    const li = document.createElement('li');\n",
              "    li.append(span(file.name, {fontWeight: 'bold'}));\n",
              "    li.append(span(\n",
              "        `(${file.type || 'n/a'}) - ${file.size} bytes, ` +\n",
              "        `last modified: ${\n",
              "            file.lastModifiedDate ? file.lastModifiedDate.toLocaleDateString() :\n",
              "                                    'n/a'} - `));\n",
              "    const percent = span('0% done');\n",
              "    li.appendChild(percent);\n",
              "\n",
              "    outputElement.appendChild(li);\n",
              "\n",
              "    const fileDataPromise = new Promise((resolve) => {\n",
              "      const reader = new FileReader();\n",
              "      reader.onload = (e) => {\n",
              "        resolve(e.target.result);\n",
              "      };\n",
              "      reader.readAsArrayBuffer(file);\n",
              "    });\n",
              "    // Wait for the data to be ready.\n",
              "    let fileData = yield {\n",
              "      promise: fileDataPromise,\n",
              "      response: {\n",
              "        action: 'continue',\n",
              "      }\n",
              "    };\n",
              "\n",
              "    // Use a chunked sending to avoid message size limits. See b/62115660.\n",
              "    let position = 0;\n",
              "    do {\n",
              "      const length = Math.min(fileData.byteLength - position, MAX_PAYLOAD_SIZE);\n",
              "      const chunk = new Uint8Array(fileData, position, length);\n",
              "      position += length;\n",
              "\n",
              "      const base64 = btoa(String.fromCharCode.apply(null, chunk));\n",
              "      yield {\n",
              "        response: {\n",
              "          action: 'append',\n",
              "          file: file.name,\n",
              "          data: base64,\n",
              "        },\n",
              "      };\n",
              "\n",
              "      let percentDone = fileData.byteLength === 0 ?\n",
              "          100 :\n",
              "          Math.round((position / fileData.byteLength) * 100);\n",
              "      percent.textContent = `${percentDone}% done`;\n",
              "\n",
              "    } while (position < fileData.byteLength);\n",
              "  }\n",
              "\n",
              "  // All done.\n",
              "  yield {\n",
              "    response: {\n",
              "      action: 'complete',\n",
              "    }\n",
              "  };\n",
              "}\n",
              "\n",
              "scope.google = scope.google || {};\n",
              "scope.google.colab = scope.google.colab || {};\n",
              "scope.google.colab._files = {\n",
              "  _uploadFiles,\n",
              "  _uploadFilesContinue,\n",
              "};\n",
              "})(self);\n",
              "</script> "
            ]
          },
          "metadata": {}
        },
        {
          "output_type": "stream",
          "name": "stdout",
          "text": [
            "Saving ready.outcome1.csv to ready.outcome1.csv\n"
          ]
        }
      ]
    },
    {
      "cell_type": "code",
      "source": [
        "import pandas as pd\n",
        "import io\n",
        "\n",
        "outcome1 = pd.read_csv(io.BytesIO(uploaded['ready.outcome1.csv']))\n",
        "print(outcome1)"
      ],
      "metadata": {
        "colab": {
          "base_uri": "https://localhost:8080/"
        },
        "id": "w5jT5Lkrl8p5",
        "outputId": "4d5ec779-fc62-40b8-eab8-ab62b7d754d9"
      },
      "execution_count": null,
      "outputs": [
        {
          "output_type": "stream",
          "name": "stdout",
          "text": [
            "       v000  v007  v012  v013  v025  v106  v190  \\\n",
            "0       NG7  2018    40     6     1     4     5   \n",
            "1       NG7  2018    37     5     1     4     5   \n",
            "2       NG7  2018    27     3     1     4     5   \n",
            "3       NG7  2018    27     3     1     3     5   \n",
            "4       NG7  2018    24     2     1     3     5   \n",
            "...     ...   ...   ...   ...   ...   ...   ...   \n",
            "120648  ZW7  2015    39     5     0     2     3   \n",
            "120649  ZW7  2015    32     4     0     3     3   \n",
            "120650  ZW7  2015    24     2     0     2     2   \n",
            "120651  ZW7  2015    40     6     0     2     3   \n",
            "120652  ZW7  2015    40     6     0     2     3   \n",
            "\n",
            "                                       v501      v501a             v501b  ...  \\\n",
            "0                       living with partner  Unmarried     Never married  ...   \n",
            "1                                   married    Married           Married  ...   \n",
            "2                                   married    Married           Married  ...   \n",
            "3                                   married    Married           Married  ...   \n",
            "4       no longer living together/separated  Unmarried  Formerly married  ...   \n",
            "...                                     ...        ...               ...  ...   \n",
            "120648                              married    Married           Married  ...   \n",
            "120649                              married    Married           Married  ...   \n",
            "120650                              married    Married           Married  ...   \n",
            "120651                              married    Married           Married  ...   \n",
            "120652                              married    Married           Married  ...   \n",
            "\n",
            "        v000_GH6  v000_KE6  v000_ML7  v000_NG7  v000_ZA7  v000_ZM7  v000_ZW7  \\\n",
            "0              0         0         0         1         0         0         0   \n",
            "1              0         0         0         1         0         0         0   \n",
            "2              0         0         0         1         0         0         0   \n",
            "3              0         0         0         1         0         0         0   \n",
            "4              0         0         0         1         0         0         0   \n",
            "...          ...       ...       ...       ...       ...       ...       ...   \n",
            "120648         0         0         0         0         0         0         1   \n",
            "120649         0         0         0         0         0         0         1   \n",
            "120650         0         0         0         0         0         0         1   \n",
            "120651         0         0         0         0         0         0         1   \n",
            "120652         0         0         0         0         0         0         1   \n",
            "\n",
            "        v501b_Formerly married  v501b_Married  v501b_Never married  \n",
            "0                            0              0                    1  \n",
            "1                            0              1                    0  \n",
            "2                            0              1                    0  \n",
            "3                            0              1                    0  \n",
            "4                            1              0                    0  \n",
            "...                        ...            ...                  ...  \n",
            "120648                       0              1                    0  \n",
            "120649                       0              1                    0  \n",
            "120650                       0              1                    0  \n",
            "120651                       0              1                    0  \n",
            "120652                       0              1                    0  \n",
            "\n",
            "[120653 rows x 33 columns]\n"
          ]
        }
      ]
    },
    {
      "cell_type": "code",
      "source": [
        "from sklearn.model_selection import train_test_split\n",
        "outcome1_train, outcome1_test = train_test_split(\n",
        "outcome1, test_size=0.20, stratify=outcome1[['v000', 'child_loss']])\n",
        "\n",
        "x_train = outcome1_train[['v000_AO7', 'v000_EG6', 'v000_ET7', 'v000_GA6', 'v000_GH6', 'v000_KE6', 'v000_ML7', 'v000_NG7', 'v000_ZA7', \n",
        "                          'v000_ZM7', 'v000_ZW7', 'v013', 'v025', 'v106', 'v190', 'v501b_Formerly married', 'v501b_Married', \n",
        "                          'v501b_Never married', 'first.sex', 'v228', 'smoke']]\n",
        "y_train = outcome1_train['lost_child']\n",
        "y2_train = outcome1_train['child_loss']\n",
        "\n",
        "\n",
        "x_test = outcome1_test[['v000_AO7', 'v000_EG6', 'v000_ET7', 'v000_GA6', 'v000_GH6', 'v000_KE6', 'v000_ML7', 'v000_NG7', 'v000_ZA7', \n",
        "                          'v000_ZM7', 'v000_ZW7', 'v013', 'v025', 'v106', 'v190', 'v501b_Formerly married', 'v501b_Married', \n",
        "                          'v501b_Never married', 'first.sex', 'v228', 'smoke']]\n",
        "y_test = outcome1_test['lost_child']\n",
        "y2_test = outcome1_test['child_loss']"
      ],
      "metadata": {
        "id": "pPfCaC2f_qSO"
      },
      "execution_count": null,
      "outputs": []
    },
    {
      "cell_type": "code",
      "execution_count": null,
      "metadata": {
        "colab": {
          "base_uri": "https://localhost:8080/"
        },
        "id": "y8Gnxa4qkNut",
        "outputId": "0f777983-553f-4834-eae6-152dc10152dd"
      },
      "outputs": [
        {
          "output_type": "stream",
          "name": "stdout",
          "text": [
            "(96522, 33) (24131, 33)\n",
            "(96522, 21) (24131, 21)\n"
          ]
        }
      ],
      "source": [
        "print(outcome1_train.shape, outcome1_test.shape)\n",
        "\n",
        "print(x_train.shape, x_test.shape)"
      ]
    },
    {
      "cell_type": "code",
      "source": [
        "# roc curve and auc\n",
        "from sklearn.linear_model import LogisticRegression\n",
        "from sklearn.model_selection import train_test_split\n",
        "from sklearn.metrics import roc_curve\n",
        "from sklearn.metrics import roc_auc_score\n",
        "from matplotlib import pyplot\n",
        "\n",
        "# fit a model\n",
        "model = LogisticRegression(solver='lbfgs')\n",
        "model.fit(x_train, y2_train)\n",
        "# predict probabilities\n",
        "lr_probs = model.predict_proba(x_test)\n",
        "# keep probabilities for the positive outcome only\n",
        "lr_probs = lr_probs[:, 1]\n",
        "# calculate scores\n",
        "lr_auc = roc_auc_score(y2_test, lr_probs)\n",
        "# summarize scores\n",
        "print('Logistic: ROC AUC=%.3f' % (lr_auc))\n",
        "# calculate roc curves\n",
        "lr_fpr, lr_tpr, _ = roc_curve(y2_test, lr_probs)\n",
        "# plot the roc curve for the model\n",
        "pyplot.plot(lr_fpr, lr_tpr, marker='.', label='Logistic')\n",
        "# axis labels\n",
        "pyplot.xlabel('False Positive Rate')\n",
        "pyplot.ylabel('True Positive Rate')\n",
        "# show the legend\n",
        "pyplot.legend()\n",
        "# show the plot\n",
        "pyplot.show()"
      ],
      "metadata": {
        "colab": {
          "base_uri": "https://localhost:8080/",
          "height": 296
        },
        "id": "swbQ2TY4IEQ1",
        "outputId": "08b578ce-11ce-4d7f-fd0b-b709e6f32886"
      },
      "execution_count": null,
      "outputs": [
        {
          "output_type": "stream",
          "name": "stdout",
          "text": [
            "Logistic: ROC AUC=0.743\n"
          ]
        },
        {
          "output_type": "display_data",
          "data": {
            "text/plain": [
              "<Figure size 432x288 with 1 Axes>"
            ],
            "image/png": "[encoded data removed]"
          },
          "metadata": {
            "needs_background": "light"
          }
        }
      ]
    },
    {
      "cell_type": "code",
      "source": [
        "from sklearn.neighbors import KNeighborsClassifier\n",
        "knn_train_accuracy = []\n",
        "knn_test_accuracy = []\n",
        "\n",
        "knn_train2_accuracy = []\n",
        "knn_test2_accuracy = []\n",
        "\n",
        "neighbors_settings = range(1, 20)\n",
        "\n",
        "for n_neighbors in neighbors_settings:\n",
        "    clf = KNeighborsClassifier(n_neighbors = n_neighbors)\n",
        "    clf2 = KNeighborsClassifier(n_neighbors = n_neighbors)\n",
        "    clf.fit(x_train, y_train)\n",
        "    clf2.fit(x_train, y2_train)\n",
        "\n",
        "    knn_train_accuracy.append(clf.score(x_train, y_train))\n",
        "    knn_test_accuracy.append(clf.score(x_test, y_test))\n",
        "\n",
        "    knn_train2_accuracy.append(clf.score(x_train, y2_train))\n",
        "    knn_test2_accuracy.append(clf.score(x_test, y2_test))\n"
      ],
      "metadata": {
        "id": "j5shimHU_-EA"
      },
      "execution_count": null,
      "outputs": []
    },
    {
      "cell_type": "code",
      "source": [
        "%matplotlib inline\n",
        "import matplotlib.pyplot as plt\n",
        "\n",
        "plt.plot(neighbors_settings, knn_train_accuracy, label= \"Trained data accuracy\")\n",
        "plt.plot(neighbors_settings, knn_test_accuracy, label= \"Test data accuracy\")\n",
        "plt.ylabel(\"Accuracy\")\n",
        "plt.xlabel(\"n_neighbors\")\n",
        "plt.legend()\n"
      ],
      "metadata": {
        "colab": {
          "base_uri": "https://localhost:8080/",
          "height": 297
        },
        "id": "i2vV9lg8mjwy",
        "outputId": "46801aa9-6360-45ac-946f-162b6a734728"
      },
      "execution_count": null,
      "outputs": [
        {
          "output_type": "execute_result",
          "data": {
            "text/plain": [
              "<matplotlib.legend.Legend at 0x7f22f6aaab10>"
            ]
          },
          "metadata": {},
          "execution_count": 6
        },
        {
          "output_type": "display_data",
          "data": {
            "text/plain": [
              "<Figure size 432x288 with 1 Axes>"
            ],
            "image/png": "[encoded data removed]"
          },
          "metadata": {
            "needs_background": "light"
          }
        }
      ]
    },
    {
      "cell_type": "code",
      "source": [
        "plt.plot(neighbors_settings, knn_train2_accuracy, label= \"Trained data accuracy\")\n",
        "plt.plot(neighbors_settings, knn_test2_accuracy, label= \"Test data accuracy\")\n",
        "plt.ylabel(\"Accuracy\")\n",
        "plt.xlabel(\"n_neighbors\")\n",
        "plt.legend()"
      ],
      "metadata": {
        "colab": {
          "base_uri": "https://localhost:8080/",
          "height": 297
        },
        "id": "IB5AB41DImEd",
        "outputId": "cba1e92f-23c2-42e0-fabd-8bb1fb882fe8"
      },
      "execution_count": null,
      "outputs": [
        {
          "output_type": "execute_result",
          "data": {
            "text/plain": [
              "<matplotlib.legend.Legend at 0x7f22f69dced0>"
            ]
          },
          "metadata": {},
          "execution_count": 7
        },
        {
          "output_type": "display_data",
          "data": {
            "text/plain": [
              "<Figure size 432x288 with 1 Axes>"
            ],
            "image/png": "[encoded data removed]"
          },
          "metadata": {
            "needs_background": "light"
          }
        }
      ]
    },
    {
      "cell_type": "code",
      "source": [
        "print (knn_train_accuracy)\n",
        "\n",
        "print (knn_train2_accuracy)"
      ],
      "metadata": {
        "colab": {
          "base_uri": "https://localhost:8080/"
        },
        "id": "_oOi1SrAyyxL",
        "outputId": "b083f41f-8f00-48c2-9ab7-eef08d381000"
      },
      "execution_count": null,
      "outputs": [
        {
          "output_type": "stream",
          "name": "stdout",
          "text": [
            "[0.6977580240774124, 0.7478087897059738, 0.7461614968608193, 0.7546776900602972, 0.7550092206957999, 0.7577857897681357, 0.7591844346366632, 0.7612772217732745, 0.757588943453306, 0.7576718261121816, 0.7591740743043037, 0.7598164149105904, 0.760054702554858, 0.7584592113715009, 0.7593294792896956, 0.7585317336980171, 0.7568222788587058, 0.7580240774124034, 0.7568222788587058]\n",
            "[0.686672468452788, 0.75077184476078, 0.7307764033070181, 0.7444831230185864, 0.7466795134787924, 0.746938521787779, 0.747860591367771, 0.7460164522077868, 0.7471146474378898, 0.7475083400675494, 0.7450943826277947, 0.7447006899981351, 0.7445763660098216, 0.7458817678871138, 0.744338078365554, 0.7465966308199167, 0.7451772652866704, 0.7454569942603759, 0.7466898738111518]\n"
          ]
        }
      ]
    },
    {
      "cell_type": "code",
      "source": [
        "from sklearn.feature_extraction.text import TfidfVectorizer\n",
        "from sklearn.naive_bayes import MultinomialNB\n",
        "from sklearn.pipeline import make_pipeline\n",
        "from sklearn.model_selection import cross_val_score\n",
        "from sklearn.model_selection import cross_val_predict\n",
        "\n",
        "model = MultinomialNB()\n",
        "model.fit(x_train, y_train)\n",
        "labels = model.predict(x_test)\n",
        "nb_train_accuracy = []\n",
        "nb_test_accuracy = []\n",
        "nb_train_accuracy.append(model.score(x_train, y_train))\n",
        "nb_test_accuracy.append(model.score(x_test, y_test))\n",
        "print(nb_train_accuracy, nb_test_accuracy)\n",
        "\n",
        "\n",
        "model_2 = MultinomialNB()\n",
        "model_2.fit(x_train, y2_train)\n",
        "labels_2 = model_2.predict(x_test)\n",
        "nb2_train_accuracy = []\n",
        "nb2_test_accuracy = []\n",
        "nb2_train_accuracy.append(model_2.score(x_train, y2_train))\n",
        "nb2_test_accuracy.append(model_2.score(x_test, y2_test))\n",
        "print(nb2_train_accuracy, nb2_test_accuracy)\n",
        "\n",
        "cv_train = cross_val_score(model, x_train, y_train, cv = 10, scoring = \"accuracy\")\n",
        "cv_test = cross_val_score(model, x_test, y_test, cv = 10, scoring = \"accuracy\")\n",
        "\n",
        "cv_train2 = cross_val_score(model_2, x_train, y2_train, cv = 10, scoring = \"accuracy\")\n",
        "cv_test2 = cross_val_score(model_2, x_test, y2_test, cv = 10, scoring = \"accuracy\")\n",
        "\n",
        "print(\"Percent accuracy within each fold (First): \\n\")\n",
        "print(cv_train, \"\\n\", cv_test)\n",
        "print(\"\\nMean & SD accuracy: \\n\")\n",
        "print(cv_train.mean(), cv_test.mean())\n",
        "print(cv_train.std(), cv_test.std())\n",
        "\n",
        "print(\"\\nPercent accuracy within each fold (Second): \\n\")\n",
        "print(cv_train2, \"\\n\", cv_test2)\n",
        "print(\"\\nMean & SD accuracy: \\n\")\n",
        "print(cv_train2.mean(), cv_test2.mean())\n",
        "print(cv_train2.std(), cv_test2.std())\n",
        "\n",
        "cv_labels = cross_val_predict(model, x_test, y_test, cv=10)\n",
        "cv_labels2 = cross_val_predict(model_2, x_test, y2_test, cv=10)\n",
        "\n",
        "accuracy = pd.DataFrame()\n",
        "accuracy2 = pd.DataFrame()\n",
        "\n",
        "accuracy = accuracy.append([[\"Naive Baye's\", (cv_train.mean()), (cv_test.mean())]])\n",
        "accuracy2 = accuracy2.append([[\"Naive Baye's\", (cv_train2.mean()), (cv_test2.mean())]])"
      ],
      "metadata": {
        "colab": {
          "base_uri": "https://localhost:8080/"
        },
        "id": "MOz1VOd2I4fk",
        "outputId": "e519dc63-50bd-48ed-fb8f-6c9105c84dae"
      },
      "execution_count": null,
      "outputs": [
        {
          "output_type": "stream",
          "name": "stdout",
          "text": [
            "[0.7540975114481673] [0.7543823297832664]\n",
            "[0.7703425125878038] [0.7687621731382869]\n",
            "Percent accuracy within each fold (First): \n",
            "\n",
            "[0.75240858 0.75479126 0.75310816 0.75300456 0.75663075 0.75290095\n",
            " 0.75476585 0.75435143 0.75486946 0.7538334 ] \n",
            " [0.75144988 0.75093245 0.75631993 0.75300456 0.75549109 0.75714878\n",
            " 0.75549109 0.75259014 0.75300456 0.7538334 ]\n",
            "\n",
            "Mean & SD accuracy: \n",
            "\n",
            "0.7540664401177554 0.7539265872409563\n",
            "0.0012051280451909068 0.0019899742075337387\n",
            "\n",
            "Percent accuracy within each fold (Second): \n",
            "\n",
            "[0.76898374 0.77105563 0.76543722 0.77186075 0.77289681 0.77092831\n",
            " 0.77134273 0.76864898 0.77020307 0.77175715] \n",
            " [0.76677713 0.76336511 0.7708247  0.76916701 0.77786987 0.76543722\n",
            " 0.77414007 0.76253626 0.76460837 0.76875259]\n",
            "\n",
            "Mean & SD accuracy: \n",
            "\n",
            "0.7703114376360753 0.7683478335212023\n",
            "0.0020363900774159243 0.004633716958841678\n"
          ]
        }
      ]
    },
    {
      "cell_type": "code",
      "source": [
        "from sklearn.feature_extraction.text import TfidfVectorizer\n",
        "from sklearn.naive_bayes import MultinomialNB\n",
        "from sklearn.pipeline import make_pipeline\n",
        "from sklearn.metrics import roc_curve\n",
        "from sklearn.metrics import roc_auc_score\n",
        "from matplotlib import pyplot\n",
        "\n",
        "\n",
        "# fit a model\n",
        "model_2 = MultinomialNB()\n",
        "model_2.fit(x_train, y2_train)\n",
        "# predict probabilities\n",
        "nb_probs = model_2.predict_proba(x_test)\n",
        "# keep probabilities for the positive outcome only\n",
        "nb_probs = nb_probs[:, 1]\n",
        "# calculate scores\n",
        "nb_auc = roc_auc_score(y2_test, nb_probs)\n",
        "# summarize scores\n",
        "print('Naive Bayes: ROC AUC=%.3f' % (nb_auc))\n",
        "# calculate roc curves\n",
        "nb_fpr, nb_tpr, _ = roc_curve(y2_test, nb_probs)\n",
        "# plot the roc curve for the model\n",
        "pyplot.plot(lr_fpr, lr_tpr, marker='.', label='Naive Bayes')\n",
        "# axis labels\n",
        "pyplot.xlabel('False Positive Rate')\n",
        "pyplot.ylabel('True Positive Rate')\n",
        "# show the legend\n",
        "pyplot.legend()\n",
        "# show the plot\n",
        "pyplot.show()"
      ],
      "metadata": {
        "colab": {
          "base_uri": "https://localhost:8080/",
          "height": 296
        },
        "id": "YJD7dgpdLNvn",
        "outputId": "282c7ef8-5a1c-423f-a4dc-c847aafc062d"
      },
      "execution_count": null,
      "outputs": [
        {
          "output_type": "stream",
          "name": "stdout",
          "text": [
            "Naive Bayes: ROC AUC=0.729\n"
          ]
        },
        {
          "output_type": "display_data",
          "data": {
            "text/plain": [
              "<Figure size 432x288 with 1 Axes>"
            ],
            "image/png": "[encoded data removed]"
          },
          "metadata": {
            "needs_background": "light"
          }
        }
      ]
    },
    {
      "cell_type": "code",
      "source": [
        "from sklearn.tree import DecisionTreeClassifier\n",
        "\n",
        "tree = DecisionTreeClassifier(random_state=0)\n",
        "tree.fit(x_train, y_train)\n",
        "labels_tree = tree.predict(x_test)\n",
        "\n",
        "tree_2 = DecisionTreeClassifier(random_state=0)\n",
        "tree_2.fit(x_train, y2_train)\n",
        "labels_tree2 = tree_2.predict(x_test)\n",
        "\n",
        "print(\"Accuracy on training set: {:.3f}\".format(tree.score(x_train, y_train)))\n",
        "print(\"Accuracy on test set: {:.3f}\".format(tree.score(x_test, y_test)))\n",
        "\n",
        "print(\"Accuracy on training set: {:.3f}\".format(tree_2.score(x_train, y2_train)))\n",
        "print(\"Accuracy on test set: {:.3f}\".format(tree_2.score(x_test, y2_test)))\n",
        "\n",
        "cv_train = cross_val_score(tree, x_train, y_train, cv = 10, scoring = \"accuracy\")\n",
        "cv_test = cross_val_score(tree, x_test, y_test, cv = 10, scoring = \"accuracy\")\n",
        "\n",
        "cv_train2 = cross_val_score(tree_2, x_train, y2_train, cv = 10, scoring = \"accuracy\")\n",
        "cv_test2 = cross_val_score(tree_2, x_test, y2_test, cv = 10, scoring = \"accuracy\")\n",
        "\n",
        "print(\"Percent accuracy within each fold (First): \\n\")\n",
        "print(cv_train, \"\\n\", cv_test)\n",
        "print(\"\\nMean & SD accuracy: \\n\")\n",
        "print(cv_train.mean(), cv_test.mean())\n",
        "print(cv_train.std(), cv_test.std())\n",
        "\n",
        "print(\"\\nPercent accuracy within each fold (Second): \\n\")\n",
        "print(cv_train2, \"\\n\", cv_test2)\n",
        "print(\"\\nMean & SD accuracy: \\n\")\n",
        "print(cv_train2.mean(), cv_test2.mean())\n",
        "print(cv_train2.std(), cv_test2.std())\n",
        "\n",
        "cv_labels = cross_val_predict(tree, x_test, y_test, cv=10)\n",
        "cv_labels2 = cross_val_predict(tree_2, x_test, y2_test, cv=10)\n",
        "\n",
        "accuracy = accuracy.append([[\"Decision Tree (Entropy)\", (cv_train.mean()), (cv_test.mean())]])\n",
        "accuracy2 = accuracy2.append([[\"Decision Tree (Entropy)\", (cv_train2.mean()), (cv_test2.mean())]])"
      ],
      "metadata": {
        "colab": {
          "base_uri": "https://localhost:8080/"
        },
        "id": "h_Xcmg3YJqM6",
        "outputId": "e97f0d5a-c5c5-4bcb-c13d-d7e9961334a5"
      },
      "execution_count": null,
      "outputs": [
        {
          "output_type": "stream",
          "name": "stdout",
          "text": [
            "Accuracy on training set: 0.786\n",
            "Accuracy on test set: 0.754\n",
            "Accuracy on training set: 0.806\n",
            "Accuracy on test set: 0.773\n",
            "Percent accuracy within each fold (First): \n",
            "\n",
            "[0.75044028 0.75427328 0.75321177 0.75145048 0.75393701 0.7538334\n",
            " 0.75393701 0.75082884 0.75238293 0.75435143] \n",
            " [0.73363712 0.73518442 0.71653543 0.72689598 0.72813925 0.74264401\n",
            " 0.72440945 0.7273104  0.73062578 0.7273104 ]\n",
            "\n",
            "Mean & SD accuracy: \n",
            "\n",
            "0.7528646424206326 0.7292692234928795\n",
            "0.0014073972366819359 0.0065965379951465125\n",
            "\n",
            "Percent accuracy within each fold (Second): \n",
            "\n",
            "[0.77250596 0.77240236 0.77154994 0.7708247  0.7745545  0.77393286\n",
            " 0.77496892 0.77310402 0.76978864 0.77186075] \n",
            " [0.75476388 0.74595939 0.74015748 0.75341898 0.75093245 0.76004973\n",
            " 0.74513054 0.74513054 0.75134687 0.74678823]\n",
            "\n",
            "Mean & SD accuracy: \n",
            "\n",
            "0.7725492653510293 0.7493678092052474\n",
            "0.0015552839454131431 0.005522756117813724\n"
          ]
        }
      ]
    },
    {
      "cell_type": "code",
      "source": [
        "from sklearn.feature_extraction.text import TfidfVectorizer\n",
        "from sklearn.metrics import roc_curve\n",
        "from sklearn.metrics import roc_auc_score\n",
        "from matplotlib import pyplot\n",
        "from sklearn.tree import DecisionTreeClassifier\n",
        "\n",
        "# fit a model\n",
        "model_2 = DecisionTreeClassifier(random_state=0)\n",
        "model_2.fit(x_train, y2_train)\n",
        "# predict probabilities\n",
        "dtc_probs = model_2.predict_proba(x_test)\n",
        "# keep probabilities for the positive outcome only\n",
        "dtc_probs = dtc_probs[:, 1]\n",
        "# calculate scores\n",
        "dtc_auc = roc_auc_score(y2_test, dtc_probs)\n",
        "# summarize scores\n",
        "print('Decision Tree: ROC AUC=%.3f' % (dtc_auc))\n",
        "# calculate roc curves\n",
        "dtc_fpr, dtc_tpr, _ = roc_curve(y2_test, dtc_probs)\n",
        "# plot the roc curve for the model\n",
        "pyplot.plot(dtc_fpr, dtc_tpr, marker='.', label='Decision Tree')\n",
        "# axis labels\n",
        "pyplot.xlabel('False Positive Rate')\n",
        "pyplot.ylabel('True Positive Rate')\n",
        "# show the legend\n",
        "pyplot.legend()\n",
        "# show the plot\n",
        "pyplot.show()"
      ],
      "metadata": {
        "colab": {
          "base_uri": "https://localhost:8080/",
          "height": 296
        },
        "id": "nh3bMB3jNAKo",
        "outputId": "045271f8-6cea-4699-8b12-52f4103a598a"
      },
      "execution_count": null,
      "outputs": [
        {
          "output_type": "stream",
          "name": "stdout",
          "text": [
            "Decision Tree: ROC AUC=0.758\n"
          ]
        },
        {
          "output_type": "display_data",
          "data": {
            "text/plain": [
              "<Figure size 432x288 with 1 Axes>"
            ],
            "image/png": "[encoded data removed]"
          },
          "metadata": {
            "needs_background": "light"
          }
        }
      ]
    },
    {
      "cell_type": "code",
      "source": [
        "from sklearn.tree import DecisionTreeClassifier\n",
        "\n",
        "clf_gini = DecisionTreeClassifier(criterion = \"gini\", random_state = 100, max_depth = 10, min_samples_leaf=1)\n",
        "clf_gini.fit(x_train, y_train)\n",
        "labels_gini = clf_gini.predict(x_test)\n",
        "\n",
        "clf_gini2 = DecisionTreeClassifier(criterion = \"gini\", random_state = 100, max_depth = 10, min_samples_leaf=1)\n",
        "clf_gini2.fit(x_train, y2_train)\n",
        "labels_gini2 = clf_gini2.predict(x_test)\n",
        "\n",
        "print(\"Accuracy on training set: {:.3f}\".format(clf_gini.score(x_train, y_train)))\n",
        "print(\"Accuracy on test set: {:.3f}\".format(clf_gini.score(x_test, y_test)))\n",
        "\n",
        "print(\"Accuracy on training set (Child loss): {:.3f}\".format(clf_gini2.score(x_train, y2_train)))\n",
        "print(\"Accuracy on test set (Child loss): {:.3f}\".format(clf_gini2.score(x_test, y2_test)))\n",
        "\n",
        "cv_train = cross_val_score(clf_gini, x_train, y_train, cv = 10, scoring = \"accuracy\")\n",
        "cv_test = cross_val_score(clf_gini, x_test, y_test, cv = 10, scoring = \"accuracy\")\n",
        "\n",
        "cv_train2 = cross_val_score(clf_gini2, x_train, y2_train, cv = 10, scoring = \"accuracy\")\n",
        "cv_test2 = cross_val_score(clf_gini2, x_test, y2_test, cv = 10, scoring = \"accuracy\")\n",
        "\n",
        "print(\"Percent accuracy within each fold (First): \\n\")\n",
        "print(cv_train, \"\\n\", cv_test)\n",
        "print(\"\\nMean & SD accuracy: \\n\")\n",
        "print(cv_train.mean(), cv_test.mean())\n",
        "print(cv_train.std(), cv_test.std())\n",
        "\n",
        "print(\"\\nPercent accuracy within each fold (Second): \\n\")\n",
        "print(cv_train2, \"\\n\", cv_test2)\n",
        "print(\"\\nMean & SD accuracy: \\n\")\n",
        "print(cv_train2.mean(), cv_test2.mean())\n",
        "print(cv_train2.std(), cv_test2.std())\n",
        "\n",
        "cv_labels = cross_val_predict(clf_gini, x_test, y_test, cv=10)\n",
        "cv_labels2 = cross_val_predict(clf_gini2, x_test, y2_test, cv=10)\n",
        "\n",
        "accuracy = accuracy.append([[\"Decision Tree (Gini)\", (cv_train.mean()), (cv_test.mean())]])\n",
        "accuracy2 = accuracy2.append([[\"Decision Tree (Gini)\", (cv_train2.mean()), (cv_test2.mean())]])"
      ],
      "metadata": {
        "colab": {
          "base_uri": "https://localhost:8080/"
        },
        "id": "U57iNYsjJylJ",
        "outputId": "e30aa17b-0b01-44ef-f219-a4a252789f1a"
      },
      "execution_count": null,
      "outputs": [
        {
          "output_type": "stream",
          "name": "stdout",
          "text": [
            "Accuracy on training set: 0.761\n",
            "Accuracy on test set: 0.755\n",
            "Accuracy on training set (Child loss): 0.778\n",
            "Accuracy on test set (Child loss): 0.770\n",
            "Percent accuracy within each fold (First): \n",
            "\n",
            "[0.75282296 0.75675956 0.75663075 0.75393701 0.75466225 0.75714878\n",
            " 0.75476585 0.75393701 0.7555947  0.7576668 ] \n",
            " [0.76056338 0.74968918 0.74305843 0.75549109 0.75051803 0.75010361\n",
            " 0.74222959 0.74720265 0.74554496 0.74554496]\n",
            "\n",
            "Mean & SD accuracy: \n",
            "\n",
            "0.755392565452619 0.7489945891678292\n",
            "0.0015318416924185215 0.005367389578657666\n",
            "\n",
            "Percent accuracy within each fold (Second): \n",
            "\n",
            "[0.77126282 0.77302393 0.76968504 0.77134273 0.77393286 0.77776627\n",
            " 0.77092831 0.76875259 0.76989225 0.77331123] \n",
            " [0.77050539 0.76750932 0.7443017  0.77952756 0.76668048 0.76460837\n",
            " 0.75631993 0.76295068 0.76502279 0.75673436]\n",
            "\n",
            "Mean & SD accuracy: \n",
            "\n",
            "0.7719898022508265 0.7634160586247305\n",
            "0.0024944699016082104 0.008954490148631243\n"
          ]
        }
      ]
    },
    {
      "cell_type": "code",
      "source": [
        "from sklearn.feature_extraction.text import TfidfVectorizer\n",
        "from sklearn.metrics import roc_curve\n",
        "from sklearn.metrics import roc_auc_score\n",
        "from matplotlib import pyplot\n",
        "from sklearn.tree import DecisionTreeClassifier\n",
        "\n",
        "# fit a model\n",
        "model_2 = DecisionTreeClassifier(criterion = \"gini\", random_state = 100, max_depth = 10, min_samples_leaf=1)\n",
        "model_2.fit(x_train, y2_train)\n",
        "# predict probabilities\n",
        "dtc_probs = model_2.predict_proba(x_test)\n",
        "# keep probabilities for the positive outcome only\n",
        "dtc_probs = dtc_probs[:, 1]\n",
        "# calculate scores\n",
        "dtc_auc = roc_auc_score(y2_test, dtc_probs)\n",
        "# summarize scores\n",
        "print('Decision Tree: ROC AUC=%.3f' % (dtc_auc))\n",
        "# calculate roc curves\n",
        "dtc_fpr, dtc_tpr, _ = roc_curve(y2_test, dtc_probs)\n",
        "# plot the roc curve for the model\n",
        "pyplot.plot(dtc_fpr, dtc_tpr, marker='.', label='Decision Tree')\n",
        "# axis labels\n",
        "pyplot.xlabel('False Positive Rate')\n",
        "pyplot.ylabel('True Positive Rate')\n",
        "# show the legend\n",
        "pyplot.legend()\n",
        "# show the plot\n",
        "pyplot.show()"
      ],
      "metadata": {
        "colab": {
          "base_uri": "https://localhost:8080/",
          "height": 296
        },
        "id": "3gBUWXo8O1Nk",
        "outputId": "ac1881b2-0d22-4af9-f0b4-3e9c5a44907b"
      },
      "execution_count": null,
      "outputs": [
        {
          "output_type": "stream",
          "name": "stdout",
          "text": [
            "Decision Tree: ROC AUC=0.745\n"
          ]
        },
        {
          "output_type": "display_data",
          "data": {
            "text/plain": [
              "<Figure size 432x288 with 1 Axes>"
            ],
            "image/png": "[encoded data removed]"
          },
          "metadata": {
            "needs_background": "light"
          }
        }
      ]
    },
    {
      "cell_type": "code",
      "source": [
        "from sklearn.ensemble import RandomForestClassifier\n",
        "\n",
        "forest = RandomForestClassifier(n_estimators=100, random_state=0)\n",
        "forest.fit(x_train, y_train)\n",
        "labels_rf = forest.predict(x_test)\n",
        "\n",
        "forest_2 = RandomForestClassifier(n_estimators=100, random_state=0)\n",
        "forest_2.fit(x_train, y2_train)\n",
        "labels_rf2 = forest.predict(x_test)\n",
        "\n",
        "print(\"Accuracy on training set: {:.3f}\".format(forest.score(x_train, y_train)))\n",
        "print(\"Accuracy on test set: {:.3f}\".format(forest.score(x_test, y_test)))\n",
        "\n",
        "print(\"Accuracy on training set (Child loss): {:.3f}\".format(forest_2.score(x_train, y2_train)))\n",
        "print(\"Accuracy on test set (Child loss): {:.3f}\".format(forest_2.score(x_test, y2_test)))\n",
        "\n",
        "cv_train = cross_val_score(forest, x_train, y_train, cv = 10, scoring = \"accuracy\")\n",
        "cv_test = cross_val_score(forest, x_test, y_test, cv = 10, scoring = \"accuracy\")\n",
        "\n",
        "cv_train2 = cross_val_score(forest_2, x_train, y2_train, cv = 10, scoring = \"accuracy\")\n",
        "cv_test2 = cross_val_score(forest_2, x_test, y2_test, cv = 10, scoring = \"accuracy\")\n",
        "\n",
        "print(\"Percent accuracy within each fold (First): \\n\")\n",
        "print(cv_train, \"\\n\", cv_test)\n",
        "print(\"\\nMean & SD accuracy: \\n\")\n",
        "print(cv_train.mean(), cv_test.mean())\n",
        "print(cv_train.std(), cv_test.std())\n",
        "\n",
        "print(\"\\nPercent accuracy within each fold (Second): \\n\")\n",
        "print(cv_train2, \"\\n\", cv_test2)\n",
        "print(\"\\nMean & SD accuracy: \\n\")\n",
        "print(cv_train2.mean(), cv_test2.mean())\n",
        "print(cv_train2.std(), cv_test2.std())\n",
        "\n",
        "cv_labels = cross_val_predict(forest, x_test, y_test, cv=10)\n",
        "cv_labels2 = cross_val_predict(forest_2, x_test, y2_test, cv=10)\n",
        "\n",
        "accuracy = accuracy.append([[\"Random Forest\", (cv_train.mean()), (cv_test.mean())]])\n",
        "accuracy2 = accuracy2.append([[\"Random Forest\", (cv_train2.mean()), (cv_test2.mean())]])"
      ],
      "metadata": {
        "colab": {
          "base_uri": "https://localhost:8080/"
        },
        "id": "_JyjJeyUOfed",
        "outputId": "a929c947-3fab-4a6a-eba8-96e29845a339"
      },
      "execution_count": null,
      "outputs": [
        {
          "output_type": "stream",
          "name": "stdout",
          "text": [
            "Accuracy on training set: 0.786\n",
            "Accuracy on test set: 0.755\n",
            "Accuracy on training set (Child loss): 0.806\n",
            "Accuracy on test set (Child loss): 0.773\n",
            "Percent accuracy within each fold (First): \n",
            "\n",
            "[0.7518906  0.75675956 0.75486946 0.75290095 0.75497306 0.75486946\n",
            " 0.75663075 0.75300456 0.75642354 0.75414422] \n",
            " [0.74316487 0.73684211 0.73186904 0.7310402  0.73559884 0.75341898\n",
            " 0.73435557 0.73352673 0.73642768 0.73352673]\n",
            "\n",
            "Mean & SD accuracy: \n",
            "\n",
            "0.7546466157256468 0.7369770756373153\n",
            "0.001592367488739728 0.006347166156062973\n",
            "\n",
            "Percent accuracy within each fold (Second): \n",
            "\n",
            "[0.77074485 0.77426707 0.77041028 0.77020307 0.77673021 0.77755906\n",
            " 0.77818069 0.77507252 0.77527973 0.77175715] \n",
            " [0.75724938 0.74761707 0.75051803 0.76212184 0.75217571 0.76419395\n",
            " 0.74968918 0.75176129 0.75176129 0.74968918]\n",
            "\n",
            "Mean & SD accuracy: \n",
            "\n",
            "0.7740204619569686 0.7536776937679808\n",
            "0.002887619475658153 0.005317746940072504\n"
          ]
        }
      ]
    },
    {
      "cell_type": "code",
      "source": [
        "from sklearn.feature_extraction.text import TfidfVectorizer\n",
        "from sklearn.metrics import roc_curve\n",
        "from sklearn.metrics import roc_auc_score\n",
        "from matplotlib import pyplot\n",
        "from sklearn.ensemble import RandomForestClassifier\n",
        "\n",
        "# fit a model\n",
        "model_2 = RandomForestClassifier(n_estimators=100, random_state=0)\n",
        "model_2.fit(x_train, y2_train)\n",
        "# predict probabilities\n",
        "dtc_probs = model_2.predict_proba(x_test)\n",
        "# keep probabilities for the positive outcome only\n",
        "dtc_probs = dtc_probs[:, 1]\n",
        "# calculate scores\n",
        "dtc_auc = roc_auc_score(y2_test, dtc_probs)\n",
        "# summarize scores\n",
        "print('Random Forest: ROC AUC=%.3f' % (dtc_auc))\n",
        "# calculate roc curves\n",
        "dtc_fpr, dtc_tpr, _ = roc_curve(y2_test, dtc_probs)\n",
        "# plot the roc curve for the model\n",
        "pyplot.plot(dtc_fpr, dtc_tpr, marker='.', label='Random Forest')\n",
        "# axis labels\n",
        "pyplot.xlabel('False Positive Rate')\n",
        "pyplot.ylabel('True Positive Rate')\n",
        "# show the legend\n",
        "pyplot.legend()\n",
        "# show the plot\n",
        "pyplot.show()"
      ],
      "metadata": {
        "colab": {
          "base_uri": "https://localhost:8080/",
          "height": 296
        },
        "id": "RnIUjWycQOJM",
        "outputId": "964d0342-f51c-4431-d1db-0b2c26f67eff"
      },
      "execution_count": null,
      "outputs": [
        {
          "output_type": "stream",
          "name": "stdout",
          "text": [
            "Decision Tree: ROC AUC=0.766\n"
          ]
        },
        {
          "output_type": "display_data",
          "data": {
            "text/plain": [
              "<Figure size 432x288 with 1 Axes>"
            ],
            "image/png": "[encoded data removed]"
          },
          "metadata": {
            "needs_background": "light"
          }
        }
      ]
    },
    {
      "cell_type": "code",
      "source": [
        "from sklearn.ensemble import GradientBoostingClassifier\n",
        "\n",
        "gbrt = GradientBoostingClassifier(random_state=0, max_depth = 10)\n",
        "gbrt.fit(x_train, y_train)\n",
        "labels_gbrt = gbrt.predict(x_test)\n",
        "\n",
        "gbrt_2 = GradientBoostingClassifier(random_state=0, max_depth = 10)\n",
        "gbrt_2.fit(x_train, y2_train)\n",
        "labels_gbrt2 = gbrt_2.predict(x_test)\n",
        "\n",
        "print(\"Accuracy on training set: {:.3f}\".format(gbrt.score(x_train, y_train)))\n",
        "print(\"Accuracy on test set: {:.3f}\".format(gbrt.score(x_test, y_test)))\n",
        "\n",
        "print(\"Accuracy on training set (Child loss): {:.3f}\".format(gbrt_2.score(x_train, y2_train)))\n",
        "print(\"Accuracy on test set (Child loss): {:.3f}\".format(gbrt_2.score(x_test, y2_test)))\n",
        "\n",
        "cv_train = cross_val_score(gbrt, x_train, y_train, cv = 10, scoring = \"accuracy\")\n",
        "cv_test = cross_val_score(gbrt, x_test, y_test, cv = 10, scoring = \"accuracy\")\n",
        "\n",
        "cv_train2 = cross_val_score(gbrt_2, x_train, y2_train, cv = 10, scoring = \"accuracy\")\n",
        "cv_test2 = cross_val_score(gbrt_2, x_test, y2_test, cv = 10, scoring = \"accuracy\")\n",
        "\n",
        "print(\"Percent accuracy within each fold (First): \\n\")\n",
        "print(cv_train, \"\\n\", cv_test)\n",
        "print(\"\\nMean & SD accuracy: \\n\")\n",
        "print(cv_train.mean(), cv_test.mean())\n",
        "print(cv_train.std(), cv_test.std())\n",
        "\n",
        "print(\"\\nPercent accuracy within each fold (Second): \\n\")\n",
        "print(cv_train2, \"\\n\", cv_test2)\n",
        "print(\"\\nMean & SD accuracy: \\n\")\n",
        "print(cv_train2.mean(), cv_test2.mean())\n",
        "print(cv_train2.std(), cv_test2.std())\n",
        "\n",
        "cv_labels = cross_val_predict(gbrt, x_test, y_test, cv=10)\n",
        "cv_labels2 = cross_val_predict(gbrt_2, x_test, y2_test, cv=10)\n",
        "\n",
        "accuracy = accuracy.append([[\"Gradient Boost\", (cv_train.mean()), (cv_test.mean())]])\n",
        "accuracy2 = accuracy2.append([[\"Gradient Boost\", (cv_train2.mean()), (cv_test2.mean())]])"
      ],
      "metadata": {
        "colab": {
          "base_uri": "https://localhost:8080/"
        },
        "id": "A1x_rOmmOxlO",
        "outputId": "10ce6ce5-7e7d-43cc-864a-3375ac08b0b9"
      },
      "execution_count": null,
      "outputs": [
        {
          "output_type": "stream",
          "name": "stdout",
          "text": [
            "Accuracy on training set: 0.782\n",
            "Accuracy on test set: 0.758\n",
            "Accuracy on training set (Child loss): 0.798\n",
            "Accuracy on test set (Child loss): 0.774\n",
            "Percent accuracy within each fold (First): \n",
            "\n",
            "[0.75479126 0.75945302 0.75880646 0.75528388 0.75714878 0.7595317\n",
            " 0.7595317  0.75549109 0.75787402 0.75797762] \n",
            " [0.73943662 0.74222959 0.73228346 0.73518442 0.73849979 0.74844592\n",
            " 0.73062578 0.74098632 0.73974306 0.73477   ]\n",
            "\n",
            "Mean & SD accuracy: \n",
            "\n",
            "0.7575889531260217 0.7382204957886565\n",
            "0.0017456579478918016 0.0049619438942587885\n",
            "\n",
            "Percent accuracy within each fold (Second): \n",
            "\n",
            "[0.77374909 0.77654615 0.77289681 0.7727932  0.77911314 0.78201409\n",
            " 0.77704103 0.77445089 0.77486531 0.77807708] \n",
            " [0.76636288 0.76626606 0.75466225 0.76336511 0.75507667 0.76792375\n",
            " 0.75507667 0.75839204 0.76170742 0.75466225]\n",
            "\n",
            "Mean & SD accuracy: \n",
            "\n",
            "0.776154679908361 0.7603495083761633\n",
            "0.0028281639056204184 0.0051342023407811325\n"
          ]
        }
      ]
    },
    {
      "cell_type": "code",
      "source": [
        "from sklearn.feature_extraction.text import TfidfVectorizer\n",
        "from sklearn.metrics import roc_curve\n",
        "from sklearn.metrics import roc_auc_score\n",
        "from matplotlib import pyplot\n",
        "from sklearn.ensemble import GradientBoostingClassifier\n",
        "\n",
        "# fit a model\n",
        "model_2 = GradientBoostingClassifier(random_state=0, max_depth = 10)\n",
        "model_2.fit(x_train, y2_train)\n",
        "# predict probabilities\n",
        "dtc_probs = model_2.predict_proba(x_test)\n",
        "# keep probabilities for the positive outcome only\n",
        "dtc_probs = dtc_probs[:, 1]\n",
        "# calculate scores\n",
        "dtc_auc = roc_auc_score(y2_test, dtc_probs)\n",
        "# summarize scores\n",
        "print('Decision Tree: ROC AUC=%.3f' % (dtc_auc))\n",
        "# calculate roc curves\n",
        "dtc_fpr, dtc_tpr, _ = roc_curve(y2_test, dtc_probs)\n",
        "# plot the roc curve for the model\n",
        "pyplot.plot(dtc_fpr, dtc_tpr, marker='.', label='Gradient Boosting')\n",
        "# axis labels\n",
        "pyplot.xlabel('False Positive Rate')\n",
        "pyplot.ylabel('True Positive Rate')\n",
        "# show the legend\n",
        "pyplot.legend()\n",
        "# show the plot\n",
        "pyplot.show()"
      ],
      "metadata": {
        "colab": {
          "base_uri": "https://localhost:8080/",
          "height": 296
        },
        "id": "oNrV7Qt8Q0LG",
        "outputId": "be67f45d-b701-4f5f-9b67-5a8489a21b50"
      },
      "execution_count": null,
      "outputs": [
        {
          "output_type": "stream",
          "name": "stdout",
          "text": [
            "Decision Tree: ROC AUC=0.769\n"
          ]
        },
        {
          "output_type": "display_data",
          "data": {
            "text/plain": [
              "<Figure size 432x288 with 1 Axes>"
            ],
            "image/png": "[encoded data removed]"
          },
          "metadata": {
            "needs_background": "light"
          }
        }
      ]
    },
    {
      "cell_type": "code",
      "source": [
        "from sklearn.svm import SVC\n",
        "\n",
        "svc = SVC()\n",
        "svc.fit(x_train, y_train)\n",
        "labels_svc = svc.predict(x_test)\n",
        "\n",
        "svc_2 = SVC()\n",
        "svc_2.fit(x_train, y2_train)\n",
        "labels_svc2 = svc_2.predict(x_test)\n",
        "\n",
        "print(\"Accuracy on training set: {:.3f}\".format(svc.score(x_train, y_train)))\n",
        "print(\"Accuracy on test set: {:.3f}\".format(svc.score(x_test, y_test)))\n",
        "\n",
        "print(\"Accuracy on training set (Child loss): {:.3f}\".format(svc_2.score(x_train, y2_train)))\n",
        "print(\"Accuracy on test set (Child loss): {:.3f}\".format(svc_2.score(x_test, y2_test)))\n",
        "\n",
        "cv_train = cross_val_score(svc, x_train, y_train, cv = 10, scoring = \"accuracy\")\n",
        "cv_test = cross_val_score(svc, x_test, y_test, cv = 10, scoring = \"accuracy\")\n",
        "\n",
        "cv_train2 = cross_val_score(svc_2, x_train, y2_train, cv = 10, scoring = \"accuracy\")\n",
        "cv_test2 = cross_val_score(svc_2, x_test, y2_test, cv = 10, scoring = \"accuracy\")\n",
        "\n",
        "print(\"Percent accuracy within each fold (First): \\n\")\n",
        "print(cv_train, \"\\n\", cv_test)\n",
        "print(\"\\nMean & SD accuracy: \\n\")\n",
        "print(cv_train.mean(), cv_test.mean())\n",
        "print(cv_train.std(), cv_test.std())\n",
        "\n",
        "print(\"\\nPercent accuracy within each fold (Second): \\n\")\n",
        "print(cv_train2, \"\\n\", cv_test2)\n",
        "print(\"\\nMean & SD accuracy: \\n\")\n",
        "print(cv_train2.mean(), cv_test2.mean())\n",
        "print(cv_train2.std(), cv_test2.std())\n",
        "\n",
        "cv_labels = cross_val_predict(svc, x_test, y_test, cv=10)\n",
        "cv_labels2 = cross_val_predict(svc_2, x_test, y2_test, cv=10)\n",
        "\n",
        "accuracy = accuracy.append([[\"SVM\", (cv_train.mean()), (cv_test.mean())]])\n",
        "accuracy2 = accuracy2.append([[\"SVM\", (cv_train2.mean()), (cv_test2.mean())]])"
      ],
      "metadata": {
        "colab": {
          "base_uri": "https://localhost:8080/",
          "height": 305
        },
        "id": "tbSerBPEO2YR",
        "outputId": "0b8ef837-1a1e-4776-8820-0ae5017203fe"
      },
      "execution_count": null,
      "outputs": [
        {
          "output_type": "stream",
          "name": "stdout",
          "text": [
            "Accuracy on training set: 0.755\n",
            "Accuracy on test set: 0.755\n",
            "Accuracy on training set (Child loss): 0.769\n",
            "Accuracy on test set (Child loss): 0.768\n"
          ]
        },
        {
          "output_type": "error",
          "ename": "NameError",
          "evalue": "ignored",
          "traceback": [
            "\u001b[0;31m---------------------------------------------------------------------------\u001b[0m",
            "\u001b[0;31mNameError\u001b[0m                                 Traceback (most recent call last)",
            "\u001b[0;32m<ipython-input-4-f4c30bb4500c>\u001b[0m in \u001b[0;36m<module>\u001b[0;34m\u001b[0m\n\u001b[1;32m     15\u001b[0m \u001b[0mprint\u001b[0m\u001b[0;34m(\u001b[0m\u001b[0;34m\"Accuracy on test set (Child loss): {:.3f}\"\u001b[0m\u001b[0;34m.\u001b[0m\u001b[0mformat\u001b[0m\u001b[0;34m(\u001b[0m\u001b[0msvc_2\u001b[0m\u001b[0;34m.\u001b[0m\u001b[0mscore\u001b[0m\u001b[0;34m(\u001b[0m\u001b[0mx_test\u001b[0m\u001b[0;34m,\u001b[0m \u001b[0my2_test\u001b[0m\u001b[0;34m)\u001b[0m\u001b[0;34m)\u001b[0m\u001b[0;34m)\u001b[0m\u001b[0;34m\u001b[0m\u001b[0;34m\u001b[0m\u001b[0m\n\u001b[1;32m     16\u001b[0m \u001b[0;34m\u001b[0m\u001b[0m\n\u001b[0;32m---> 17\u001b[0;31m \u001b[0mcv_train\u001b[0m \u001b[0;34m=\u001b[0m \u001b[0mcross_val_score\u001b[0m\u001b[0;34m(\u001b[0m\u001b[0msvc\u001b[0m\u001b[0;34m,\u001b[0m \u001b[0mx_train\u001b[0m\u001b[0;34m,\u001b[0m \u001b[0my_train\u001b[0m\u001b[0;34m,\u001b[0m \u001b[0mcv\u001b[0m \u001b[0;34m=\u001b[0m \u001b[0;36m10\u001b[0m\u001b[0;34m,\u001b[0m \u001b[0mscoring\u001b[0m \u001b[0;34m=\u001b[0m \u001b[0;34m\"accuracy\"\u001b[0m\u001b[0;34m)\u001b[0m\u001b[0;34m\u001b[0m\u001b[0;34m\u001b[0m\u001b[0m\n\u001b[0m\u001b[1;32m     18\u001b[0m \u001b[0mcv_test\u001b[0m \u001b[0;34m=\u001b[0m \u001b[0mcross_val_score\u001b[0m\u001b[0;34m(\u001b[0m\u001b[0msvc\u001b[0m\u001b[0;34m,\u001b[0m \u001b[0mx_test\u001b[0m\u001b[0;34m,\u001b[0m \u001b[0my_test\u001b[0m\u001b[0;34m,\u001b[0m \u001b[0mcv\u001b[0m \u001b[0;34m=\u001b[0m \u001b[0;36m10\u001b[0m\u001b[0;34m,\u001b[0m \u001b[0mscoring\u001b[0m \u001b[0;34m=\u001b[0m \u001b[0;34m\"accuracy\"\u001b[0m\u001b[0;34m)\u001b[0m\u001b[0;34m\u001b[0m\u001b[0;34m\u001b[0m\u001b[0m\n\u001b[1;32m     19\u001b[0m \u001b[0;34m\u001b[0m\u001b[0m\n",
            "\u001b[0;31mNameError\u001b[0m: name 'cross_val_score' is not defined"
          ]
        }
      ]
    },
    {
      "cell_type": "code",
      "source": [
        "cv_train = cross_val_score(svc, x_train, y_train, cv = 10, scoring = \"accuracy\")\n",
        "cv_test = cross_val_score(svc, x_test, y_test, cv = 10, scoring = \"accuracy\")\n",
        "\n",
        "cv_train2 = cross_val_score(svc_2, x_train, y2_train, cv = 10, scoring = \"accuracy\")\n",
        "cv_test2 = cross_val_score(svc_2, x_test, y2_test, cv = 10, scoring = \"accuracy\")\n",
        "\n",
        "print(\"Percent accuracy within each fold (First): \\n\")\n",
        "print(cv_train, \"\\n\", cv_test)\n",
        "print(\"\\nMean & SD accuracy: \\n\")\n",
        "print(cv_train.mean(), cv_test.mean())\n",
        "print(cv_train.std(), cv_test.std())\n",
        "\n",
        "print(\"\\nPercent accuracy within each fold (Second): \\n\")\n",
        "print(cv_train2, \"\\n\", cv_test2)\n",
        "print(\"\\nMean & SD accuracy: \\n\")\n",
        "print(cv_train2.mean(), cv_test2.mean())\n",
        "print(cv_train2.std(), cv_test2.std())\n",
        "\n",
        "cv_labels = cross_val_predict(svc, x_test, y_test, cv=10)\n",
        "cv_labels2 = cross_val_predict(svc_2, x_test, y2_test, cv=10)\n",
        "\n",
        "accuracy = accuracy.append([[\"SVM\", (cv_train.mean()), (cv_test.mean())]])\n",
        "accuracy2 = accuracy2.append([[\"SVM\", (cv_train2.mean()), (cv_test2.mean())]])"
      ],
      "metadata": {
        "colab": {
          "base_uri": "https://localhost:8080/"
        },
        "id": "9r622d3yl1ev",
        "outputId": "f6e73d4d-99ac-4bd1-da81-d4bc352ab617"
      },
      "execution_count": null,
      "outputs": [
        {
          "output_type": "stream",
          "name": "stdout",
          "text": [
            "Percent accuracy within each fold (First): \n",
            "\n",
            "[0.75427328 0.75530923 0.75435143 0.75528388 0.75528388 0.75590551\n",
            " 0.75600912 0.75507667 0.75777041 0.75497306] \n",
            " [0.75144988 0.75217571 0.75217571 0.75259014 0.75176129 0.75341898\n",
            " 0.75300456 0.75134687 0.75259014 0.75217571]\n",
            "\n",
            "Mean & SD accuracy: \n",
            "\n",
            "0.7554236470937297 0.752268899715055\n",
            "0.0009450310292319527 0.0006224884138372644\n",
            "\n",
            "Percent accuracy within each fold (Second): \n",
            "\n",
            "[0.7677406  0.76680825 0.76844177 0.76719851 0.77206797 0.76792375\n",
            " 0.76906341 0.76875259 0.76947783 0.76989225] \n",
            " [0.76594863 0.75839204 0.77248239 0.7670949  0.77041028 0.76626606\n",
            " 0.76999586 0.76336511 0.76295068 0.76585164]\n",
            "\n",
            "Mean & SD accuracy: \n",
            "\n",
            "0.768736691371271 0.7662757584486957\n",
            "0.0014461655059533117 0.003899930540227518\n"
          ]
        }
      ]
    },
    {
      "cell_type": "code",
      "source": [
        "from sklearn.feature_extraction.text import TfidfVectorizer\n",
        "from sklearn.metrics import roc_curve\n",
        "from sklearn.metrics import roc_auc_score\n",
        "from matplotlib import pyplot\n",
        "from sklearn.svm import SVC\n",
        "\n",
        "# fit a model\n",
        "model_2 = SVC()\n",
        "model_2.fit(x_train, y2_train)\n",
        "# predict probabilities\n",
        "dtc_probs = model_2.predict_proba(x_test)\n",
        "# keep probabilities for the positive outcome only\n",
        "dtc_probs = dtc_probs[:, 1]\n",
        "# calculate scores\n",
        "dtc_auc = roc_auc_score(y2_test, dtc_probs)\n",
        "# summarize scores\n",
        "print('Decision Tree: ROC AUC=%.3f' % (dtc_auc))\n",
        "# calculate roc curves\n",
        "dtc_fpr, dtc_tpr, _ = roc_curve(y2_test, dtc_probs)\n",
        "# plot the roc curve for the model\n",
        "pyplot.plot(dtc_fpr, dtc_tpr, marker='.', label='Decision Tree')\n",
        "# axis labels\n",
        "pyplot.xlabel('False Positive Rate')\n",
        "pyplot.ylabel('True Positive Rate')\n",
        "# show the legend\n",
        "pyplot.legend()\n",
        "# show the plot\n",
        "pyplot.show()"
      ],
      "metadata": {
        "colab": {
          "base_uri": "https://localhost:8080/",
          "height": 381
        },
        "id": "r2WHB-nCQwGd",
        "outputId": "74e7c3ff-4170-42c5-c8f8-b52796f45f8e"
      },
      "execution_count": null,
      "outputs": [
        {
          "output_type": "error",
          "ename": "AttributeError",
          "evalue": "ignored",
          "traceback": [
            "\u001b[0;31m---------------------------------------------------------------------------\u001b[0m",
            "\u001b[0;31mAttributeError\u001b[0m                            Traceback (most recent call last)",
            "\u001b[0;32m<ipython-input-12-695de4de1df7>\u001b[0m in \u001b[0;36m<module>\u001b[0;34m\u001b[0m\n\u001b[1;32m      9\u001b[0m \u001b[0mmodel_2\u001b[0m\u001b[0;34m.\u001b[0m\u001b[0mfit\u001b[0m\u001b[0;34m(\u001b[0m\u001b[0mx_train\u001b[0m\u001b[0;34m,\u001b[0m \u001b[0my2_train\u001b[0m\u001b[0;34m)\u001b[0m\u001b[0;34m\u001b[0m\u001b[0;34m\u001b[0m\u001b[0m\n\u001b[1;32m     10\u001b[0m \u001b[0;31m# predict probabilities\u001b[0m\u001b[0;34m\u001b[0m\u001b[0;34m\u001b[0m\u001b[0;34m\u001b[0m\u001b[0m\n\u001b[0;32m---> 11\u001b[0;31m \u001b[0mdtc_probs\u001b[0m \u001b[0;34m=\u001b[0m \u001b[0mmodel_2\u001b[0m\u001b[0;34m.\u001b[0m\u001b[0mpredict_proba\u001b[0m\u001b[0;34m(\u001b[0m\u001b[0mx_test\u001b[0m\u001b[0;34m)\u001b[0m\u001b[0;34m\u001b[0m\u001b[0;34m\u001b[0m\u001b[0m\n\u001b[0m\u001b[1;32m     12\u001b[0m \u001b[0;31m# keep probabilities for the positive outcome only\u001b[0m\u001b[0;34m\u001b[0m\u001b[0;34m\u001b[0m\u001b[0;34m\u001b[0m\u001b[0m\n\u001b[1;32m     13\u001b[0m \u001b[0mdtc_probs\u001b[0m \u001b[0;34m=\u001b[0m \u001b[0mdtc_probs\u001b[0m\u001b[0;34m[\u001b[0m\u001b[0;34m:\u001b[0m\u001b[0;34m,\u001b[0m \u001b[0;36m1\u001b[0m\u001b[0;34m]\u001b[0m\u001b[0;34m\u001b[0m\u001b[0;34m\u001b[0m\u001b[0m\n",
            "\u001b[0;32m/usr/local/lib/python3.8/dist-packages/sklearn/utils/metaestimators.py\u001b[0m in \u001b[0;36m__get__\u001b[0;34m(self, obj, owner)\u001b[0m\n\u001b[1;32m    107\u001b[0m             \u001b[0;31m# delegate only on instances, not the classes.\u001b[0m\u001b[0;34m\u001b[0m\u001b[0;34m\u001b[0m\u001b[0;34m\u001b[0m\u001b[0m\n\u001b[1;32m    108\u001b[0m             \u001b[0;31m# this is to allow access to the docstrings.\u001b[0m\u001b[0;34m\u001b[0m\u001b[0;34m\u001b[0m\u001b[0;34m\u001b[0m\u001b[0m\n\u001b[0;32m--> 109\u001b[0;31m             \u001b[0;32mif\u001b[0m \u001b[0;32mnot\u001b[0m \u001b[0mself\u001b[0m\u001b[0;34m.\u001b[0m\u001b[0mcheck\u001b[0m\u001b[0;34m(\u001b[0m\u001b[0mobj\u001b[0m\u001b[0;34m)\u001b[0m\u001b[0;34m:\u001b[0m\u001b[0;34m\u001b[0m\u001b[0;34m\u001b[0m\u001b[0m\n\u001b[0m\u001b[1;32m    110\u001b[0m                 \u001b[0;32mraise\u001b[0m \u001b[0mattr_err\u001b[0m\u001b[0;34m\u001b[0m\u001b[0;34m\u001b[0m\u001b[0m\n\u001b[1;32m    111\u001b[0m \u001b[0;34m\u001b[0m\u001b[0m\n",
            "\u001b[0;32m/usr/local/lib/python3.8/dist-packages/sklearn/svm/_base.py\u001b[0m in \u001b[0;36m_check_proba\u001b[0;34m(self)\u001b[0m\n\u001b[1;32m    798\u001b[0m     \u001b[0;32mdef\u001b[0m \u001b[0m_check_proba\u001b[0m\u001b[0;34m(\u001b[0m\u001b[0mself\u001b[0m\u001b[0;34m)\u001b[0m\u001b[0;34m:\u001b[0m\u001b[0;34m\u001b[0m\u001b[0;34m\u001b[0m\u001b[0m\n\u001b[1;32m    799\u001b[0m         \u001b[0;32mif\u001b[0m \u001b[0;32mnot\u001b[0m \u001b[0mself\u001b[0m\u001b[0;34m.\u001b[0m\u001b[0mprobability\u001b[0m\u001b[0;34m:\u001b[0m\u001b[0;34m\u001b[0m\u001b[0;34m\u001b[0m\u001b[0m\n\u001b[0;32m--> 800\u001b[0;31m             raise AttributeError(\n\u001b[0m\u001b[1;32m    801\u001b[0m                 \u001b[0;34m\"predict_proba is not available when  probability=False\"\u001b[0m\u001b[0;34m\u001b[0m\u001b[0;34m\u001b[0m\u001b[0m\n\u001b[1;32m    802\u001b[0m             )\n",
            "\u001b[0;31mAttributeError\u001b[0m: predict_proba is not available when  probability=False"
          ]
        }
      ]
    },
    {
      "cell_type": "code",
      "source": [
        "from sklearn.neighbors import KNeighborsClassifier\n",
        "from sklearn.model_selection import cross_val_score\n",
        "from sklearn.model_selection import cross_val_predict\n",
        "\n",
        "clf = KNeighborsClassifier(n_neighbors = 8)\n",
        "clf2 = KNeighborsClassifier(n_neighbors = 2)\n",
        "clf.fit(x_train, y_train)\n",
        "clf2.fit(x_train, y2_train)\n",
        "\n",
        "print(\"Accuracy on training set: {:.3f}\".format(clf.score(x_train, y_train)))\n",
        "print(\"Accuracy on test set: {:.3f}\".format(clf.score(x_test, y_test)))\n",
        "\n",
        "print(\"Accuracy on training set (Child loss): {:.3f}\".format(clf2.score(x_train, y2_train)))\n",
        "print(\"Accuracy on test set (Child loss): {:.3f}\".format(clf2.score(x_test, y2_test)))\n",
        "\n",
        "cv_train = cross_val_score(clf, x_train, y_train, cv = 10, scoring = \"accuracy\")\n",
        "cv_test = cross_val_score(clf, x_test, y_test, cv = 10, scoring = \"accuracy\")\n",
        "\n",
        "cv_train2 = cross_val_score(clf2, x_train, y2_train, cv = 10, scoring = \"accuracy\")\n",
        "cv_test2 = cross_val_score(clf2, x_test, y2_test, cv = 10, scoring = \"accuracy\")\n",
        "\n",
        "print(\"Percent accuracy within each fold (First): \\n\")\n",
        "print(cv_train, \"\\n\", cv_test)\n",
        "print(\"\\nMean & SD accuracy: \\n\")\n",
        "print(cv_train.mean(), cv_test.mean())\n",
        "print(cv_train.std(), cv_test.std())\n",
        "\n",
        "print(\"\\nPercent accuracy within each fold (Second): \\n\")\n",
        "print(cv_train2, \"\\n\", cv_test2)\n",
        "print(\"\\nMean & SD accuracy: \\n\")\n",
        "print(cv_train2.mean(), cv_test2.mean())\n",
        "print(cv_train2.std(), cv_test2.std())\n",
        "\n",
        "\n",
        "cv_labels = cross_val_predict(clf, x_test, y_test, cv=10)\n",
        "cv_labels2 = cross_val_predict(clf2, x_test, y2_test, cv=10)\n",
        "\n",
        "accuracy = accuracy.append([[\"KNN\", (cv_train.mean()), (cv_test.mean())]])\n",
        "accuracy2 = accuracy2.append([[\"KNN\", (cv_train2.mean()), (cv_test2.mean())]])"
      ],
      "metadata": {
        "id": "2dxuactenecK",
        "colab": {
          "base_uri": "https://localhost:8080/",
          "height": 686
        },
        "outputId": "d942a58d-bbd8-4a2f-c22b-e6dc5daacd77"
      },
      "execution_count": null,
      "outputs": [
        {
          "output_type": "stream",
          "name": "stdout",
          "text": [
            "Accuracy on training set: 0.759\n",
            "Accuracy on test set: 0.748\n",
            "Accuracy on training set (Child loss): 0.775\n",
            "Accuracy on test set (Child loss): 0.758\n",
            "Percent accuracy within each fold (First): \n",
            "\n",
            "[0.74484616 0.73572982 0.73767095 0.74181517 0.74316204 0.74823871\n",
            " 0.74005387 0.74564857 0.74254041 0.74088272] \n",
            " [0.74606462 0.7405719  0.74140075 0.74264401 0.75217571 0.74388728\n",
            " 0.74761707 0.74595939 0.7405719  0.74264401]\n",
            "\n",
            "Mean & SD accuracy: \n",
            "\n",
            "0.7420588419396318 0.7443536649555311\n",
            "0.0035364894759353153 0.003474572792013889\n",
            "\n",
            "Percent accuracy within each fold (Second): \n",
            "\n",
            "[0.7518906  0.74743603 0.7555947  0.7537298  0.75580191 0.75435143\n",
            " 0.75145048 0.7594281  0.75528388 0.75300456] \n",
            " [0.74606462 0.75051803 0.7480315  0.74595939 0.75051803 0.75134687\n",
            " 0.75922089 0.74098632 0.74388728 0.74720265]\n",
            "\n",
            "Mean & SD accuracy: \n",
            "\n",
            "0.7537971474654559 0.748373557205842\n",
            "0.0030284279033088975 0.004722795807931974\n"
          ]
        },
        {
          "output_type": "error",
          "ename": "NameError",
          "evalue": "ignored",
          "traceback": [
            "\u001b[0;31m---------------------------------------------------------------------------\u001b[0m",
            "\u001b[0;31mNameError\u001b[0m                                 Traceback (most recent call last)",
            "\u001b[0;32m<ipython-input-8-d594213c5a2b>\u001b[0m in \u001b[0;36m<module>\u001b[0;34m\u001b[0m\n\u001b[1;32m     36\u001b[0m \u001b[0mcv_labels2\u001b[0m \u001b[0;34m=\u001b[0m \u001b[0mcross_val_predict\u001b[0m\u001b[0;34m(\u001b[0m\u001b[0mclf2\u001b[0m\u001b[0;34m,\u001b[0m \u001b[0mx_test\u001b[0m\u001b[0;34m,\u001b[0m \u001b[0my2_test\u001b[0m\u001b[0;34m,\u001b[0m \u001b[0mcv\u001b[0m\u001b[0;34m=\u001b[0m\u001b[0;36m10\u001b[0m\u001b[0;34m)\u001b[0m\u001b[0;34m\u001b[0m\u001b[0;34m\u001b[0m\u001b[0m\n\u001b[1;32m     37\u001b[0m \u001b[0;34m\u001b[0m\u001b[0m\n\u001b[0;32m---> 38\u001b[0;31m \u001b[0maccuracy\u001b[0m \u001b[0;34m=\u001b[0m \u001b[0maccuracy\u001b[0m\u001b[0;34m.\u001b[0m\u001b[0mappend\u001b[0m\u001b[0;34m(\u001b[0m\u001b[0;34m[\u001b[0m\u001b[0;34m[\u001b[0m\u001b[0;34m\"KNN\"\u001b[0m\u001b[0;34m,\u001b[0m \u001b[0;34m(\u001b[0m\u001b[0mcv_train\u001b[0m\u001b[0;34m.\u001b[0m\u001b[0mmean\u001b[0m\u001b[0;34m(\u001b[0m\u001b[0;34m)\u001b[0m\u001b[0;34m)\u001b[0m\u001b[0;34m,\u001b[0m \u001b[0;34m(\u001b[0m\u001b[0mcv_test\u001b[0m\u001b[0;34m.\u001b[0m\u001b[0mmean\u001b[0m\u001b[0;34m(\u001b[0m\u001b[0;34m)\u001b[0m\u001b[0;34m)\u001b[0m\u001b[0;34m]\u001b[0m\u001b[0;34m]\u001b[0m\u001b[0;34m)\u001b[0m\u001b[0;34m\u001b[0m\u001b[0;34m\u001b[0m\u001b[0m\n\u001b[0m\u001b[1;32m     39\u001b[0m \u001b[0maccuracy2\u001b[0m \u001b[0;34m=\u001b[0m \u001b[0maccuracy2\u001b[0m\u001b[0;34m.\u001b[0m\u001b[0mappend\u001b[0m\u001b[0;34m(\u001b[0m\u001b[0;34m[\u001b[0m\u001b[0;34m[\u001b[0m\u001b[0;34m\"KNN\"\u001b[0m\u001b[0;34m,\u001b[0m \u001b[0;34m(\u001b[0m\u001b[0mcv_train2\u001b[0m\u001b[0;34m.\u001b[0m\u001b[0mmean\u001b[0m\u001b[0;34m(\u001b[0m\u001b[0;34m)\u001b[0m\u001b[0;34m)\u001b[0m\u001b[0;34m,\u001b[0m \u001b[0;34m(\u001b[0m\u001b[0mcv_test2\u001b[0m\u001b[0;34m.\u001b[0m\u001b[0mmean\u001b[0m\u001b[0;34m(\u001b[0m\u001b[0;34m)\u001b[0m\u001b[0;34m)\u001b[0m\u001b[0;34m]\u001b[0m\u001b[0;34m]\u001b[0m\u001b[0;34m)\u001b[0m\u001b[0;34m\u001b[0m\u001b[0;34m\u001b[0m\u001b[0m\n",
            "\u001b[0;31mNameError\u001b[0m: name 'accuracy' is not defined"
          ]
        }
      ]
    }
  ]
}